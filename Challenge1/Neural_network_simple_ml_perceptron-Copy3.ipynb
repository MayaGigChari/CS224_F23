{
 "cells": [
  {
   "cell_type": "code",
   "execution_count": 5,
   "id": "bb3edee3",
   "metadata": {},
   "outputs": [],
   "source": [
    "import os\n",
    "import numpy as np \n",
    "import pandas as pd\n",
    "\n",
    "from sklearn.svm import SVR\n",
    "from sklearn.metrics import mean_squared_error\n",
    "\n",
    "from sklearn.multioutput import MultiOutputRegressor\n",
    "import matplotlib.pyplot as plt\n",
    "\n",
    "from tensorflow.keras.models import Sequential\n",
    "from tensorflow.keras.layers import Dense\n",
    "from tensorflow.keras.optimizers import Adam\n",
    "\n",
    "from sklearn.model_selection import train_test_split\n",
    "\n",
    "\n",
    "#THIS IS THE BEST MODEL TO DATE THAT I HAVE DONE. ACCURACY = 2.60\n",
    "\n",
    "#TODO: incorportae train_model. \n",
    "\n",
    "#UPDATE: this has the best accuracy with 2.662!!! touse, best model. \n",
    "\n",
    "#UPDATE: when i tried to simplify it by adding the train_model to the \n"
   ]
  },
  {
   "cell_type": "code",
   "execution_count": 3,
   "id": "7118ba56",
   "metadata": {},
   "outputs": [],
   "source": [
    "X_train = pd.read_csv(\"data/ancestry_train.data\", sep = \" \", header=None).values\n",
    "y_train = pd.read_csv(\"data/ancestry_train.solution\", sep = \" \", header=None).values\n",
    "\n",
    "X_test = pd.read_csv(\"data/ancestry_test.data\", sep = \" \", header=None).values"
   ]
  },
  {
   "cell_type": "code",
   "execution_count": 6,
   "id": "88a80a8a",
   "metadata": {},
   "outputs": [],
   "source": [
    "np.round(y_train, 3)\n",
    "\n",
    "X_train_split, X_val, y_train_split, y_val = train_test_split(X_train, y_train, test_size=0.2, random_state=42)\n"
   ]
  },
  {
   "cell_type": "code",
   "execution_count": 4,
   "id": "5b42273c",
   "metadata": {},
   "outputs": [],
   "source": [
    "#try to build a multi-output model neural network. \n",
    "from tensorflow.keras.models import Sequential\n",
    "from tensorflow.keras.layers import Dense\n",
    "from tensorflow.keras.optimizers import Adam\n"
   ]
  },
  {
   "cell_type": "code",
   "execution_count": 8,
   "id": "0022c7bb",
   "metadata": {},
   "outputs": [],
   "source": [
    "from keras.callbacks import EarlyStopping\n",
    "\n",
    "def get_model(n_inputs, n_outputs):\n",
    "    model = Sequential()\n",
    "    model.add(Dense(50, input_dim=n_inputs, kernel_initializer='he_uniform', activation='relu'))\n",
    "    model.add(Dense(30, activation='relu'))\n",
    "    model.add(Dense(n_outputs, activation='sigmoid'))  # Sigmoid activation for output layer\n",
    "    model.compile(loss='mean_squared_error', optimizer='adam')  # Using mean squared error for loss\n",
    "    return model\n",
    "\n",
    "# Train the model\n",
    "def train_model(X_train, y_train, X_val, y_val):\n",
    "    model = get_model(X_train.shape[1], y_train.shape[1])\n",
    "    early_stop = EarlyStopping(monitor='val_loss', patience=10, verbose=1, mode='min', restore_best_weights=True)\n",
    "\n",
    "    history = model.fit(X_train, y_train, validation_data=(X_val, y_val),\n",
    "                        epochs=100, batch_size=32, verbose=1, callbacks=[early_stop])\n",
    "    return model, history\n",
    "\n",
    "# Usage\n",
    "#model, history = train_model(X_train, y_train, X_val, y_val)"
   ]
  },
  {
   "cell_type": "code",
   "execution_count": 6,
   "id": "01895d15",
   "metadata": {},
   "outputs": [],
   "source": []
  },
  {
   "cell_type": "code",
   "execution_count": 9,
   "id": "40bec86d",
   "metadata": {},
   "outputs": [
    {
     "name": "stdout",
     "output_type": "stream",
     "text": [
      "Epoch 1/100\n",
      "1000/1000 [==============================] - 2s 2ms/step - loss: 0.0054 - val_loss: 0.0027\n",
      "Epoch 2/100\n",
      "1000/1000 [==============================] - 2s 2ms/step - loss: 0.0024 - val_loss: 0.0022\n",
      "Epoch 3/100\n",
      "1000/1000 [==============================] - 2s 2ms/step - loss: 0.0022 - val_loss: 0.0022\n",
      "Epoch 4/100\n",
      "1000/1000 [==============================] - 2s 2ms/step - loss: 0.0021 - val_loss: 0.0021\n",
      "Epoch 5/100\n",
      "1000/1000 [==============================] - 2s 2ms/step - loss: 0.0020 - val_loss: 0.0021\n",
      "Epoch 6/100\n",
      "1000/1000 [==============================] - 2s 2ms/step - loss: 0.0020 - val_loss: 0.0022\n",
      "Epoch 7/100\n",
      "1000/1000 [==============================] - 2s 2ms/step - loss: 0.0019 - val_loss: 0.0021\n",
      "Epoch 8/100\n",
      "1000/1000 [==============================] - 2s 2ms/step - loss: 0.0018 - val_loss: 0.0022\n",
      "Epoch 9/100\n",
      "1000/1000 [==============================] - 2s 2ms/step - loss: 0.0017 - val_loss: 0.0022\n",
      "Epoch 10/100\n",
      "1000/1000 [==============================] - 2s 2ms/step - loss: 0.0016 - val_loss: 0.0022\n",
      "Epoch 11/100\n",
      "1000/1000 [==============================] - 2s 2ms/step - loss: 0.0016 - val_loss: 0.0024\n",
      "Epoch 12/100\n",
      "1000/1000 [==============================] - 2s 2ms/step - loss: 0.0015 - val_loss: 0.0024\n",
      "Epoch 13/100\n",
      "1000/1000 [==============================] - 2s 2ms/step - loss: 0.0014 - val_loss: 0.0025\n",
      "Epoch 14/100\n",
      " 998/1000 [============================>.] - ETA: 0s - loss: 0.0014Restoring model weights from the end of the best epoch: 4.\n",
      "1000/1000 [==============================] - 2s 2ms/step - loss: 0.0014 - val_loss: 0.0024\n",
      "Epoch 14: early stopping\n"
     ]
    }
   ],
   "source": [
    "model_touse = train_model(X_train_split, y_train_split, X_val, y_val)\n",
    "# summarize performance\n",
    "#print('MAE: %.3f (%.3f)' % (np.mean(results), np.std(results)))"
   ]
  },
  {
   "cell_type": "code",
   "execution_count": 16,
   "id": "94c7156c",
   "metadata": {},
   "outputs": [
    {
     "name": "stdout",
     "output_type": "stream",
     "text": [
      "<keras.src.engine.sequential.Sequential object at 0x144d9e740>\n"
     ]
    }
   ],
   "source": []
  },
  {
   "cell_type": "code",
   "execution_count": 6,
   "id": "19b21035",
   "metadata": {},
   "outputs": [
    {
     "name": "stdout",
     "output_type": "stream",
     "text": [
      "313/313 [==============================] - 1s 2ms/step\n",
      "[[ 9.7959340e-03  3.9531535e-01  5.9403098e-01]\n",
      " [ 9.7517532e-01  2.0544261e-02 -6.7355111e-04]\n",
      " [ 5.7326853e-03  6.6763759e-03  9.9065584e-01]\n",
      " ...\n",
      " [ 2.0027429e-02  4.8545212e-01  4.9155781e-01]\n",
      " [-1.6391248e-02 -3.5119653e-02  1.0714254e+00]\n",
      " [ 5.0765276e-03  3.8240999e-02  9.5940810e-01]]\n"
     ]
    }
   ],
   "source": [
    "n_inputs, n_outputs = X_test.shape[1], y_train.shape[1]\n",
    "# get model\n",
    "model = get_model(n_inputs, n_outputs)\n",
    "# fit the model on all data\n",
    "model.fit(X_train, y_train, verbose=0, epochs=100)\n",
    "# make a prediction for new data\n",
    "newX = X_test\n",
    "yhat = model.predict(newX)\n",
    "\n",
    "\n",
    "print(yhat)"
   ]
  },
  {
   "cell_type": "code",
   "execution_count": 7,
   "id": "5822e432",
   "metadata": {},
   "outputs": [
    {
     "name": "stdout",
     "output_type": "stream",
     "text": [
      "[[0.00980434 0.3956547  0.5945409 ]\n",
      " [0.97936743 0.02063258 0.        ]\n",
      " [0.00571517 0.00665598 0.9876289 ]\n",
      " ...\n",
      " [0.02008694 0.48689458 0.49301842]\n",
      " [0.         0.         1.        ]\n",
      " [0.00506273 0.03813705 0.9568002 ]]\n",
      "updating: predictions.csv (deflated 58%)\n"
     ]
    },
    {
     "data": {
      "text/plain": [
       "0"
      ]
     },
     "execution_count": 7,
     "metadata": {},
     "output_type": "execute_result"
    }
   ],
   "source": [
    "#normalize \n",
    "\n",
    "yhat[yhat < 0] = 0\n",
    "\n",
    "normalized_yhat= yhat / np.sum(yhat, axis=1, keepdims=True)\n",
    "\n",
    "print(normalized_yhat)\n",
    "\n",
    "pd.DataFrame(normalized_yhat).to_csv(f\"predictions.csv\", sep = \" \", header = None, index = None)\n",
    "os.system(\"zip -r predictions.zip predictions.csv\")"
   ]
  },
  {
   "cell_type": "code",
   "execution_count": 17,
   "id": "c126e9f7",
   "metadata": {},
   "outputs": [
    {
     "name": "stdout",
     "output_type": "stream",
     "text": [
      "313/313 [==============================] - 0s 929us/step\n",
      "[[2.7025884e-03 4.9857944e-01 4.8467928e-01]\n",
      " [9.7643310e-01 2.4460075e-02 2.0539868e-05]\n",
      " [1.4236641e-04 2.2574620e-02 9.7575921e-01]\n",
      " ...\n",
      " [4.9864701e-03 5.0396377e-01 4.8262763e-01]\n",
      " [2.5581877e-04 2.3059456e-02 9.7886539e-01]\n",
      " [9.5223979e-04 3.5895068e-02 9.6520430e-01]]\n",
      "updating: predictions.csv (deflated 57%)\n"
     ]
    },
    {
     "data": {
      "text/plain": [
       "0"
      ]
     },
     "execution_count": 17,
     "metadata": {},
     "output_type": "execute_result"
    }
   ],
   "source": [
    "yhat = model_touse[0].predict(X_test)\n",
    "print(yhat)\n",
    "\n",
    "#yhat[yhat < 0] = 0\n",
    "\n",
    "#normalized_yhat= yhat / np.sum(yhat, axis=1, keepdims=True)\n",
    "\n",
    "#print(normalized_yhat)\n",
    "\n",
    "pd.DataFrame(yhat).to_csv(f\"predictions.csv\", sep = \" \", header = None, index = None)\n",
    "os.system(\"zip -r predictions.zip predictions.csv\")"
   ]
  }
 ],
 "metadata": {
  "kernelspec": {
   "display_name": "Python 3 (ipykernel)",
   "language": "python",
   "name": "python3"
  },
  "language_info": {
   "codemirror_mode": {
    "name": "ipython",
    "version": 3
   },
   "file_extension": ".py",
   "mimetype": "text/x-python",
   "name": "python",
   "nbconvert_exporter": "python",
   "pygments_lexer": "ipython3",
   "version": "3.10.5"
  }
 },
 "nbformat": 4,
 "nbformat_minor": 5
}

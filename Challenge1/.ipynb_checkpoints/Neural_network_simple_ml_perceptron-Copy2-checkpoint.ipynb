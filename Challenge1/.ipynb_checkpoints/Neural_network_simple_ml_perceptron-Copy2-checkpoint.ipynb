{
 "cells": [
  {
   "cell_type": "code",
   "execution_count": 2,
   "id": "bb3edee3",
   "metadata": {},
   "outputs": [],
   "source": [
    "import os\n",
    "import numpy as np \n",
    "import pandas as pd\n",
    "\n",
    "from sklearn.svm import SVR\n",
    "from sklearn.metrics import mean_squared_error\n",
    "\n",
    "from sklearn.multioutput import MultiOutputRegressor\n",
    "import matplotlib.pyplot as plt\n",
    "\n",
    "from tensorflow.keras.models import Sequential\n",
    "from tensorflow.keras.layers import Dense\n",
    "from tensorflow.keras.optimizers import Adam\n",
    "\n",
    "#THIS IS THE BEST MODEL TO DATE THAT I HAVE DONE. ACCURACY = 2.60\n",
    "\n",
    "#TODO: incorportae train_model. \n",
    "\n",
    "#UPDATE: this has the best accuracy with 2.66!!! "
   ]
  },
  {
   "cell_type": "code",
   "execution_count": 3,
   "id": "7118ba56",
   "metadata": {},
   "outputs": [],
   "source": [
    "X_train = pd.read_csv(\"data/ancestry_train.data\", sep = \" \", header=None).values\n",
    "y_train = pd.read_csv(\"data/ancestry_train.solution\", sep = \" \", header=None).values\n",
    "\n",
    "X_test = pd.read_csv(\"data/ancestry_test.data\", sep = \" \", header=None).values"
   ]
  },
  {
   "cell_type": "code",
   "execution_count": 3,
   "id": "88a80a8a",
   "metadata": {},
   "outputs": [
    {
     "data": {
      "text/plain": [
       "array([[0.198, 0.75 , 0.052],\n",
       "       [0.858, 0.142, 0.   ],\n",
       "       [0.761, 0.237, 0.001],\n",
       "       ...,\n",
       "       [0.001, 0.183, 0.817],\n",
       "       [0.016, 0.591, 0.393],\n",
       "       [0.   , 0.007, 0.993]])"
      ]
     },
     "execution_count": 3,
     "metadata": {},
     "output_type": "execute_result"
    }
   ],
   "source": [
    "np.round(y_train, 3)"
   ]
  },
  {
   "cell_type": "code",
   "execution_count": 5,
   "id": "5b42273c",
   "metadata": {},
   "outputs": [
    {
     "name": "stderr",
     "output_type": "stream",
     "text": [
      "2023-11-16 17:59:19.080889: I tensorflow/core/platform/cpu_feature_guard.cc:182] This TensorFlow binary is optimized to use available CPU instructions in performance-critical operations.\n",
      "To enable the following instructions: AVX2 FMA, in other operations, rebuild TensorFlow with the appropriate compiler flags.\n"
     ]
    }
   ],
   "source": [
    "#try to build a multi-output model neural network. \n",
    "from tensorflow.keras.models import Sequential\n",
    "from tensorflow.keras.layers import Dense\n",
    "from tensorflow.keras.optimizers import Adam\n"
   ]
  },
  {
   "cell_type": "code",
   "execution_count": 5,
   "id": "0022c7bb",
   "metadata": {},
   "outputs": [],
   "source": [
    "from keras.callbacks import EarlyStopping\n",
    "\n",
    "def get_model(n_inputs, n_outputs):\n",
    "    model = Sequential()\n",
    "    model.add(Dense(50, input_dim=n_inputs, kernel_initializer='he_uniform', activation='sigmoid'))\n",
    "    model.add(Dense(30, activation='relu'))\n",
    "    model.add(Dense(n_outputs))\n",
    "    model.compile(loss='mae', optimizer='adam')\n",
    "    return model\n",
    "\n",
    "#trains the model. \n",
    "def train_model(X_train, y_train, X_val, y_val):\n",
    "    model = get_model(X_train.shape[1], y_train.shape[1])\n",
    "    \n",
    "    # Early stopping callback\n",
    "    early_stop = EarlyStopping(monitor='val_loss', patience=10, verbose=1, mode='min', restore_best_weights=True)\n",
    "\n",
    "    history = model.fit(X_train, y_train, validation_data=(X_val, y_val),\n",
    "                        epochs=100, batch_size=32, verbose=1, callbacks=[early_stop])\n",
    "    return model, history\n",
    "\n",
    "# Usage\n",
    "#model, history = train_model(X_train, y_train, X_val, y_val)"
   ]
  },
  {
   "cell_type": "code",
   "execution_count": 11,
   "id": "01895d15",
   "metadata": {},
   "outputs": [],
   "source": [
    "from sklearn.model_selection import RepeatedKFold\n",
    "\n",
    "\n",
    "def evaluate_model_with_early_stopping(X, y):\n",
    "    best_model = None\n",
    "    best_score = np.inf  # Initialize with a high value for minimization (e.g., loss)\n",
    "    n_inputs, n_outputs = X.shape[1], y.shape[1]\n",
    "    # define evaluation procedure\n",
    "    cv = RepeatedKFold(n_splits=10, n_repeats=3, random_state=1)\n",
    "    # enumerate folds\n",
    "    for train_ix, test_ix in cv.split(X):\n",
    "        # prepare data\n",
    "        X_train, X_test = X[train_ix], X[test_ix]\n",
    "        y_train, y_test = y[train_ix], y[test_ix]\n",
    "        # define model\n",
    "        model = get_model(n_inputs, n_outputs)\n",
    "        # Early stopping callback\n",
    "        early_stop = EarlyStopping(monitor='val_loss', patience=10, verbose=1, mode='min', restore_best_weights=True)\n",
    "        # fit model with early stopping\n",
    "        history = model.fit(X_train, y_train, validation_data=(X_test, y_test),\n",
    "                            epochs=100, batch_size=32, verbose=0, callbacks=[early_stop])\n",
    "        # evaluate model on test set\n",
    "        loss = model.evaluate(X_test, y_test, verbose=0)\n",
    "        # check if current model is the best so far\n",
    "        if loss < best_score:\n",
    "            best_score = loss\n",
    "            best_model = model  # Update best model\n",
    "        # store result\n",
    "        print('>%.3f' % loss)\n",
    "    return best_model"
   ]
  },
  {
   "cell_type": "code",
   "execution_count": 12,
   "id": "40bec86d",
   "metadata": {},
   "outputs": [
    {
     "name": "stdout",
     "output_type": "stream",
     "text": [
      "Restoring model weights from the end of the best epoch: 13.\n",
      "Epoch 23: early stopping\n",
      ">0.029\n",
      "Restoring model weights from the end of the best epoch: 9.\n",
      "Epoch 19: early stopping\n",
      ">0.028\n",
      "Restoring model weights from the end of the best epoch: 6.\n",
      "Epoch 16: early stopping\n",
      ">0.029\n",
      "Restoring model weights from the end of the best epoch: 9.\n",
      "Epoch 19: early stopping\n",
      ">0.029\n",
      "Restoring model weights from the end of the best epoch: 5.\n",
      "Epoch 15: early stopping\n",
      ">0.029\n",
      "Restoring model weights from the end of the best epoch: 8.\n",
      "Epoch 18: early stopping\n",
      ">0.029\n",
      "Restoring model weights from the end of the best epoch: 7.\n",
      "Epoch 17: early stopping\n",
      ">0.029\n",
      "Restoring model weights from the end of the best epoch: 9.\n",
      "Epoch 19: early stopping\n",
      ">0.028\n",
      "Restoring model weights from the end of the best epoch: 11.\n",
      "Epoch 21: early stopping\n",
      ">0.028\n",
      "Restoring model weights from the end of the best epoch: 11.\n",
      "Epoch 21: early stopping\n",
      ">0.029\n",
      "Restoring model weights from the end of the best epoch: 5.\n",
      "Epoch 15: early stopping\n",
      ">0.029\n",
      "Restoring model weights from the end of the best epoch: 9.\n",
      "Epoch 19: early stopping\n",
      ">0.029\n",
      "Restoring model weights from the end of the best epoch: 6.\n",
      "Epoch 16: early stopping\n",
      ">0.029\n",
      "Restoring model weights from the end of the best epoch: 7.\n",
      "Epoch 17: early stopping\n",
      ">0.028\n",
      "Restoring model weights from the end of the best epoch: 4.\n",
      "Epoch 14: early stopping\n",
      ">0.029\n",
      "Restoring model weights from the end of the best epoch: 7.\n",
      "Epoch 17: early stopping\n",
      ">0.028\n",
      "Restoring model weights from the end of the best epoch: 5.\n",
      "Epoch 15: early stopping\n",
      ">0.030\n",
      "Restoring model weights from the end of the best epoch: 10.\n",
      "Epoch 20: early stopping\n",
      ">0.030\n",
      "Restoring model weights from the end of the best epoch: 5.\n",
      "Epoch 15: early stopping\n",
      ">0.029\n",
      "Restoring model weights from the end of the best epoch: 11.\n",
      "Epoch 21: early stopping\n",
      ">0.029\n",
      "Restoring model weights from the end of the best epoch: 7.\n",
      "Epoch 17: early stopping\n",
      ">0.029\n",
      "Restoring model weights from the end of the best epoch: 7.\n",
      "Epoch 17: early stopping\n",
      ">0.028\n",
      "Restoring model weights from the end of the best epoch: 4.\n",
      "Epoch 14: early stopping\n",
      ">0.029\n",
      "Restoring model weights from the end of the best epoch: 9.\n",
      "Epoch 19: early stopping\n",
      ">0.029\n",
      "Restoring model weights from the end of the best epoch: 7.\n",
      "Epoch 17: early stopping\n",
      ">0.028\n",
      "Restoring model weights from the end of the best epoch: 5.\n",
      "Epoch 15: early stopping\n",
      ">0.028\n",
      "Restoring model weights from the end of the best epoch: 7.\n",
      "Epoch 17: early stopping\n",
      ">0.028\n",
      "Restoring model weights from the end of the best epoch: 9.\n",
      "Epoch 19: early stopping\n",
      ">0.028\n",
      "Restoring model weights from the end of the best epoch: 8.\n",
      "Epoch 18: early stopping\n",
      ">0.029\n",
      "Restoring model weights from the end of the best epoch: 8.\n",
      "Epoch 18: early stopping\n",
      ">0.029\n"
     ]
    },
    {
     "ename": "NameError",
     "evalue": "name 'mean' is not defined",
     "output_type": "error",
     "traceback": [
      "\u001b[0;31m---------------------------------------------------------------------------\u001b[0m",
      "\u001b[0;31mNameError\u001b[0m                                 Traceback (most recent call last)",
      "Input \u001b[0;32mIn [12]\u001b[0m, in \u001b[0;36m<cell line: 3>\u001b[0;34m()\u001b[0m\n\u001b[1;32m      1\u001b[0m model_touse \u001b[38;5;241m=\u001b[39m evaluate_model_with_early_stopping(X_train, y_train)\n\u001b[1;32m      2\u001b[0m \u001b[38;5;66;03m# summarize performance\u001b[39;00m\n\u001b[0;32m----> 3\u001b[0m \u001b[38;5;28mprint\u001b[39m(\u001b[38;5;124m'\u001b[39m\u001b[38;5;124mMAE: \u001b[39m\u001b[38;5;132;01m%.3f\u001b[39;00m\u001b[38;5;124m (\u001b[39m\u001b[38;5;132;01m%.3f\u001b[39;00m\u001b[38;5;124m)\u001b[39m\u001b[38;5;124m'\u001b[39m \u001b[38;5;241m%\u001b[39m (\u001b[43mmean\u001b[49m(results), std(results)))\n",
      "\u001b[0;31mNameError\u001b[0m: name 'mean' is not defined"
     ]
    }
   ],
   "source": [
    "model_touse = evaluate_model_with_early_stopping(X_train, y_train)\n",
    "# summarize performance\n",
    "print('MAE: %.3f (%.3f)' % (mean(results), std(results)))"
   ]
  },
  {
   "cell_type": "code",
   "execution_count": 6,
   "id": "19b21035",
   "metadata": {},
   "outputs": [
    {
     "name": "stdout",
     "output_type": "stream",
     "text": [
      "313/313 [==============================] - 1s 2ms/step\n",
      "[[ 9.7959340e-03  3.9531535e-01  5.9403098e-01]\n",
      " [ 9.7517532e-01  2.0544261e-02 -6.7355111e-04]\n",
      " [ 5.7326853e-03  6.6763759e-03  9.9065584e-01]\n",
      " ...\n",
      " [ 2.0027429e-02  4.8545212e-01  4.9155781e-01]\n",
      " [-1.6391248e-02 -3.5119653e-02  1.0714254e+00]\n",
      " [ 5.0765276e-03  3.8240999e-02  9.5940810e-01]]\n"
     ]
    }
   ],
   "source": [
    "n_inputs, n_outputs = X_test.shape[1], y_train.shape[1]\n",
    "# get model\n",
    "model = get_model(n_inputs, n_outputs)\n",
    "# fit the model on all data\n",
    "model.fit(X_train, y_train, verbose=0, epochs=100)\n",
    "# make a prediction for new data\n",
    "newX = X_test\n",
    "yhat = model.predict(newX)\n",
    "\n",
    "\n",
    "print(yhat)"
   ]
  },
  {
   "cell_type": "code",
   "execution_count": 7,
   "id": "5822e432",
   "metadata": {},
   "outputs": [
    {
     "name": "stdout",
     "output_type": "stream",
     "text": [
      "[[0.00980434 0.3956547  0.5945409 ]\n",
      " [0.97936743 0.02063258 0.        ]\n",
      " [0.00571517 0.00665598 0.9876289 ]\n",
      " ...\n",
      " [0.02008694 0.48689458 0.49301842]\n",
      " [0.         0.         1.        ]\n",
      " [0.00506273 0.03813705 0.9568002 ]]\n",
      "updating: predictions.csv (deflated 58%)\n"
     ]
    },
    {
     "data": {
      "text/plain": [
       "0"
      ]
     },
     "execution_count": 7,
     "metadata": {},
     "output_type": "execute_result"
    }
   ],
   "source": [
    "#normalize \n",
    "\n",
    "yhat[yhat < 0] = 0\n",
    "\n",
    "normalized_yhat= yhat / np.sum(yhat, axis=1, keepdims=True)\n",
    "\n",
    "print(normalized_yhat)\n",
    "\n",
    "pd.DataFrame(normalized_yhat).to_csv(f\"predictions.csv\", sep = \" \", header = None, index = None)\n",
    "os.system(\"zip -r predictions.zip predictions.csv\")"
   ]
  },
  {
   "cell_type": "code",
   "execution_count": 17,
   "id": "c126e9f7",
   "metadata": {},
   "outputs": [
    {
     "name": "stdout",
     "output_type": "stream",
     "text": [
      "313/313 [==============================] - 0s 877us/step\n",
      "[[6.2932358e-03 4.5352411e-01 5.4018265e-01]\n",
      " [9.8296040e-01 1.5567059e-02 1.4726069e-03]\n",
      " [0.0000000e+00 1.7544089e-02 9.8245591e-01]\n",
      " ...\n",
      " [8.8942796e-03 5.1696712e-01 4.7413862e-01]\n",
      " [2.7601037e-04 2.3067599e-02 9.7665644e-01]\n",
      " [7.6712010e-04 3.2776408e-02 9.6645647e-01]]\n",
      "updating: predictions.csv (deflated 58%)\n"
     ]
    },
    {
     "data": {
      "text/plain": [
       "0"
      ]
     },
     "execution_count": 17,
     "metadata": {},
     "output_type": "execute_result"
    }
   ],
   "source": [
    "yhat = model_touse.predict(X_test)\n",
    "\n",
    "\n",
    "yhat[yhat < 0] = 0\n",
    "\n",
    "normalized_yhat= yhat / np.sum(yhat, axis=1, keepdims=True)\n",
    "\n",
    "print(normalized_yhat)\n",
    "\n",
    "pd.DataFrame(normalized_yhat).to_csv(f\"predictions.csv\", sep = \" \", header = None, index = None)\n",
    "os.system(\"zip -r predictions.zip predictions.csv\")"
   ]
  }
 ],
 "metadata": {
  "kernelspec": {
   "display_name": "Python 3 (ipykernel)",
   "language": "python",
   "name": "python3"
  },
  "language_info": {
   "codemirror_mode": {
    "name": "ipython",
    "version": 3
   },
   "file_extension": ".py",
   "mimetype": "text/x-python",
   "name": "python",
   "nbconvert_exporter": "python",
   "pygments_lexer": "ipython3",
   "version": "3.10.5"
  }
 },
 "nbformat": 4,
 "nbformat_minor": 5
}

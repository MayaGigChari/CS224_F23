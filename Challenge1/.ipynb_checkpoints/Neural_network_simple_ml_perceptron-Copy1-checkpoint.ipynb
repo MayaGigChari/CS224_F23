{
 "cells": [
  {
   "cell_type": "code",
   "execution_count": 8,
   "id": "bb3edee3",
   "metadata": {},
   "outputs": [],
   "source": [
    "import os\n",
    "import numpy as np \n",
    "import pandas as pd\n",
    "\n",
    "from sklearn.svm import SVR\n",
    "from sklearn.metrics import mean_squared_error\n",
    "\n",
    "from sklearn.multioutput import MultiOutputRegressor\n",
    "import matplotlib.pyplot as plt\n",
    "\n",
    "from tensorflow.keras.models import Sequential\n",
    "from tensorflow.keras.layers import Dense\n",
    "from tensorflow.keras.optimizers import Adam\n",
    "\n",
    "#THIS IS THE BEST MODEL TO DATE THAT I HAVE DONE. ACCURACY = 2.59"
   ]
  },
  {
   "cell_type": "code",
   "execution_count": 3,
   "id": "7118ba56",
   "metadata": {},
   "outputs": [],
   "source": [
    "X_train = pd.read_csv(\"data/ancestry_train.data\", sep = \" \", header=None).values\n",
    "y_train = pd.read_csv(\"data/ancestry_train.solution\", sep = \" \", header=None).values\n",
    "\n",
    "X_test = pd.read_csv(\"data/ancestry_test.data\", sep = \" \", header=None).values"
   ]
  },
  {
   "cell_type": "code",
   "execution_count": 3,
   "id": "88a80a8a",
   "metadata": {},
   "outputs": [
    {
     "data": {
      "text/plain": [
       "array([[0.198, 0.75 , 0.052],\n",
       "       [0.858, 0.142, 0.   ],\n",
       "       [0.761, 0.237, 0.001],\n",
       "       ...,\n",
       "       [0.001, 0.183, 0.817],\n",
       "       [0.016, 0.591, 0.393],\n",
       "       [0.   , 0.007, 0.993]])"
      ]
     },
     "execution_count": 3,
     "metadata": {},
     "output_type": "execute_result"
    }
   ],
   "source": [
    "np.round(y_train, 3)"
   ]
  },
  {
   "cell_type": "code",
   "execution_count": 5,
   "id": "5b42273c",
   "metadata": {},
   "outputs": [
    {
     "name": "stderr",
     "output_type": "stream",
     "text": [
      "2023-11-16 17:59:19.080889: I tensorflow/core/platform/cpu_feature_guard.cc:182] This TensorFlow binary is optimized to use available CPU instructions in performance-critical operations.\n",
      "To enable the following instructions: AVX2 FMA, in other operations, rebuild TensorFlow with the appropriate compiler flags.\n"
     ]
    }
   ],
   "source": [
    "#try to build a multi-output model neural network. \n",
    "from tensorflow.keras.models import Sequential\n",
    "from tensorflow.keras.layers import Dense\n",
    "from tensorflow.keras.optimizers import Adam\n",
    "\n",
    "model = Sequential()\n",
    "model.add(Dense(20, input_dim=10, kernel_initializer='he_uniform', activation='relu'))\n",
    "model.add(Dense(3))\n",
    "model.compile(loss='mae', optimizer='adam')"
   ]
  },
  {
   "cell_type": "code",
   "execution_count": 4,
   "id": "0022c7bb",
   "metadata": {},
   "outputs": [],
   "source": [
    "from keras.callbacks import EarlyStopping\n",
    "\n",
    "def get_model(n_inputs, n_outputs):\n",
    "    model = Sequential()\n",
    "    model.add(Dense(50, input_dim=n_inputs, kernel_initializer='he_uniform', activation='relu'))\n",
    "    model.add(Dense(30, activation='relu'))\n",
    "    model.add(Dense(n_outputs))\n",
    "    model.compile(loss='mae', optimizer='adam')\n",
    "    return model\n",
    "\n",
    "def train_model(X_train, y_train, X_val, y_val):\n",
    "    model = get_model(X_train.shape[1], y_train.shape[1])\n",
    "    \n",
    "    # Early stopping callback\n",
    "    early_stop = EarlyStopping(monitor='val_loss', patience=10, verbose=1, mode='min', restore_best_weights=True)\n",
    "\n",
    "    history = model.fit(X_train, y_train, validation_data=(X_val, y_val),\n",
    "                        epochs=100, batch_size=32, verbose=1, callbacks=[early_stop])\n",
    "    return model, history\n",
    "\n",
    "# Usage\n",
    "#model, history = train_model(X_train, y_train, X_val, y_val)"
   ]
  },
  {
   "cell_type": "code",
   "execution_count": 9,
   "id": "01895d15",
   "metadata": {},
   "outputs": [],
   "source": [
    "from sklearn.model_selection import RepeatedKFold\n",
    "\n",
    "\n",
    "def evaluate_model_with_early_stopping(X, y):\n",
    "    results = list()\n",
    "    n_inputs, n_outputs = X.shape[1], y.shape[1]\n",
    "    # define evaluation procedure\n",
    "    cv = RepeatedKFold(n_splits=10, n_repeats=3, random_state=1)\n",
    "    # enumerate folds\n",
    "    for train_ix, test_ix in cv.split(X):\n",
    "        # prepare data\n",
    "        X_train, X_test = X[train_ix], X[test_ix]\n",
    "        y_train, y_test = y[train_ix], y[test_ix]\n",
    "        # define model\n",
    "        model = get_model(n_inputs, n_outputs)\n",
    "        # Early stopping callback\n",
    "        early_stop = EarlyStopping(monitor='val_loss', patience=10, verbose=1, mode='min', restore_best_weights=True)\n",
    "        # fit model with early stopping\n",
    "        history = model.fit(X_train, y_train, validation_data=(X_test, y_test),\n",
    "                            epochs=100, batch_size=32, verbose=0, callbacks=[early_stop])\n",
    "        # evaluate model on test set\n",
    "        mae = model.evaluate(X_test, y_test, verbose=0)\n",
    "        # store result\n",
    "        print('>%.3f' % mae)\n",
    "        results.append(mae)\n",
    "    return results"
   ]
  },
  {
   "cell_type": "code",
   "execution_count": 11,
   "id": "40bec86d",
   "metadata": {},
   "outputs": [],
   "source": [
    "#results = evaluate_model_with_early_stopping(X_train, y_train)\n",
    "# summarize performance\n",
    "#print('MAE: %.3f (%.3f)' % (mean(results), std(results)))"
   ]
  },
  {
   "cell_type": "code",
   "execution_count": 12,
   "id": "19b21035",
   "metadata": {},
   "outputs": [
    {
     "name": "stdout",
     "output_type": "stream",
     "text": [
      "313/313 [==============================] - 0s 1ms/step\n",
      "[[ 1.4587671e-02  5.2671868e-01  4.5369348e-01]\n",
      " [ 9.8395485e-01  1.7059922e-02  1.3517886e-03]\n",
      " [ 2.3949146e-04  1.6904473e-03  1.0011228e+00]\n",
      " ...\n",
      " [ 8.2208514e-03  5.3639805e-01  4.4582397e-01]\n",
      " [-5.3739548e-04  3.3661723e-03  1.0001062e+00]\n",
      " [ 8.5756183e-04  1.9266605e-02  9.8317456e-01]]\n"
     ]
    }
   ],
   "source": [
    "n_inputs, n_outputs = X_test.shape[1], y_train.shape[1]\n",
    "# get model\n",
    "model = get_model(n_inputs, n_outputs)\n",
    "# fit the model on all data\n",
    "model.fit(X_train, y_train, verbose=0, epochs=100)\n",
    "# make a prediction for new data\n",
    "newX = X_test\n",
    "yhat = model.predict(newX)\n",
    "\n",
    "\n",
    "print(yhat)"
   ]
  },
  {
   "cell_type": "code",
   "execution_count": 13,
   "id": "5822e432",
   "metadata": {},
   "outputs": [
    {
     "name": "stdout",
     "output_type": "stream",
     "text": [
      "[[1.4660977e-02 5.2936554e-01 4.5597339e-01]\n",
      " [9.8163176e-01 1.7019644e-02 1.3485971e-03]\n",
      " [2.3876259e-04 1.6853026e-03 9.9807602e-01]\n",
      " ...\n",
      " [8.3001768e-03 5.4157394e-01 4.5012587e-01]\n",
      " [0.0000000e+00 3.3545243e-03 9.9664551e-01]\n",
      " [8.5474225e-04 1.9203259e-02 9.7994196e-01]]\n",
      "updating: predictions.csv (deflated 58%)\n"
     ]
    },
    {
     "data": {
      "text/plain": [
       "0"
      ]
     },
     "execution_count": 13,
     "metadata": {},
     "output_type": "execute_result"
    }
   ],
   "source": [
    "#normalize \n",
    "\n",
    "yhat[yhat < 0] = 0\n",
    "\n",
    "normalized_yhat= yhat / np.sum(yhat, axis=1, keepdims=True)\n",
    "\n",
    "print(normalized_yhat)\n",
    "\n",
    "pd.DataFrame(normalized_yhat).to_csv(f\"predictions.csv\", sep = \" \", header = None, index = None)\n",
    "os.system(\"zip -r predictions.zip predictions.csv\")"
   ]
  },
  {
   "cell_type": "code",
   "execution_count": null,
   "id": "6c710f73",
   "metadata": {},
   "outputs": [],
   "source": []
  }
 ],
 "metadata": {
  "kernelspec": {
   "display_name": "Python 3 (ipykernel)",
   "language": "python",
   "name": "python3"
  },
  "language_info": {
   "codemirror_mode": {
    "name": "ipython",
    "version": 3
   },
   "file_extension": ".py",
   "mimetype": "text/x-python",
   "name": "python",
   "nbconvert_exporter": "python",
   "pygments_lexer": "ipython3",
   "version": "3.10.5"
  }
 },
 "nbformat": 4,
 "nbformat_minor": 5
}

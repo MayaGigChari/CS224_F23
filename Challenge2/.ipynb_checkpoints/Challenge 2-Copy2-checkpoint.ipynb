{
 "cells": [
  {
   "cell_type": "code",
   "execution_count": 28,
   "id": "a95f0a9d",
   "metadata": {},
   "outputs": [],
   "source": [
    "import os\n",
    "import numpy as np \n",
    "import pandas as pd\n",
    "\n",
    "from sklearn.svm import SVR\n",
    "from sklearn.metrics import mean_squared_error\n",
    "\n",
    "from sklearn.multioutput import MultiOutputRegressor\n",
    "import matplotlib.pyplot as plt\n",
    "\n",
    "from tensorflow.keras.models import Sequential\n",
    "from tensorflow.keras.layers import Dense\n",
    "from tensorflow.keras.optimizers import Adam\n",
    "\n",
    "from sklearn.model_selection import train_test_split\n",
    "from sklearn.feature_selection import chi2\n",
    "from sklearn.feature_selection import SelectKBest\n"
   ]
  },
  {
   "cell_type": "code",
   "execution_count": 286,
   "id": "2cf708d4",
   "metadata": {
    "scrolled": true
   },
   "outputs": [
    {
     "name": "stdout",
     "output_type": "stream",
     "text": [
      "[[0 2 1 ... 0 0 2]\n",
      " [0 1 0 ... 0 0 2]\n",
      " [0 1 2 ... 0 0 1]\n",
      " ...\n",
      " [0 2 1 ... 0 0 1]\n",
      " [0 1 2 ... 0 0 1]\n",
      " [0 2 2 ... 1 0 2]]\n",
      "[-1.445386 -0.627935 -1.013429 ...  0.349022  0.789777 -0.25892 ]\n"
     ]
    },
    {
     "data": {
      "text/plain": [
       "numpy.ndarray"
      ]
     },
     "execution_count": 286,
     "metadata": {},
     "output_type": "execute_result"
    }
   ],
   "source": [
    "X_train = pd.read_csv(\"train.genotype.txt\", sep = \" \", header=None).values\n",
    "X_test = pd.read_csv(\"test.genotype.txt\", sep = \" \", header=None).values\n",
    "\n",
    "Y_train = pd.read_csv(\"train.phenotype.txt\", sep = \" \", header=None).values\n",
    "\n",
    "\n",
    "X_train_df = pd.DataFrame(X_train)\n",
    "Y_train_df = pd.DataFrame(Y_train)\n",
    "Y_train_df = np.array(Y_train_df.iloc[:, 0])\n",
    "\n",
    "#df.to_csv('output.csv', index=False)  # Use index=False to exclude row numbers in the output\n",
    "\n",
    "#print(X_train_df)\n",
    "\n",
    "X_train_df = X_train_df.values\n",
    "\n",
    "\n",
    "print(X_train_df)\n",
    "print(Y_train_df)\n",
    "\n",
    "type(Y_train_df)\n"
   ]
  },
  {
   "cell_type": "code",
   "execution_count": 215,
   "id": "e1b37084",
   "metadata": {},
   "outputs": [
    {
     "data": {
      "text/plain": [
       "(array([[2659.,    0.,    0., ...,    0.,    0.,   11.],\n",
       "        [ 155.,    0.,    0., ...,    0.,    0., 1790.],\n",
       "        [ 571.,    0.,    0., ...,    0.,    0., 1002.],\n",
       "        ...,\n",
       "        [2555.,    0.,    0., ...,    0.,    0.,   17.],\n",
       "        [2440.,    0.,    0., ...,    0.,    0.,   24.],\n",
       "        [ 218.,    0.,    0., ...,    0.,    0., 1589.]]),\n",
       " array([0. , 0.2, 0.4, 0.6, 0.8, 1. , 1.2, 1.4, 1.6, 1.8, 2. ]),\n",
       " <a list of 200 BarContainer objects>)"
      ]
     },
     "execution_count": 215,
     "metadata": {},
     "output_type": "execute_result"
    },
    {
     "data": {
      "image/png": "[encoded data removed]",
      "text/plain": [
       "<Figure size 432x288 with 1 Axes>"
      ]
     },
     "metadata": {
      "needs_background": "light"
     },
     "output_type": "display_data"
    }
   ],
   "source": [
    "plt.hist(X_test)\n",
    "#look at the distribution of the phenotype, it looks fairly normal, but it doesn't look like it's centered around 0. "
   ]
  },
  {
   "cell_type": "code",
   "execution_count": 217,
   "id": "fdaee87b",
   "metadata": {},
   "outputs": [
    {
     "name": "stdout",
     "output_type": "stream",
     "text": [
      "Training data shape :  (2000, 200)\n",
      "Testing data shape :  (3000, 200)\n"
     ]
    }
   ],
   "source": [
    "#need to somehow reduce dimensionality of non-causal snps, becuase this dataset is too large. \n",
    "print('Training data shape : ', X_train.shape)\n",
    "\n",
    "print('Testing data shape : ', X_test.shape)\n",
    "\n",
    "#right now we have 200 different snps \n",
    "\n",
    "#MUST do feature selection. "
   ]
  },
  {
   "cell_type": "code",
   "execution_count": 306,
   "id": "8450c008",
   "metadata": {},
   "outputs": [
    {
     "name": "stderr",
     "output_type": "stream",
     "text": [
      "/Library/Frameworks/Python.framework/Versions/3.10/lib/python3.10/site-packages/sklearn/utils/validation.py:1111: DataConversionWarning: A column-vector y was passed when a 1d array was expected. Please change the shape of y to (n_samples, ), for example using ravel().\n",
      "  y = column_or_1d(y, warn=True)\n"
     ]
    },
    {
     "data": {
      "image/png": "[encoded data removed]",
      "text/plain": [
       "<Figure size 720x432 with 1 Axes>"
      ]
     },
     "metadata": {
      "needs_background": "light"
     },
     "output_type": "display_data"
    }
   ],
   "source": [
    "\n",
    "import matplotlib.pyplot as plt\n",
    "from sklearn.feature_selection import SelectKBest, f_regression\n",
    "\n",
    "# Assuming X_train contains categorical features and Y_train contains a continuous target\n",
    "k = 200  # Select the top k features\n",
    "threshold = 4# Score threshold to filter selected features\n",
    "f_selector = SelectKBest(f_regression, k=k)\n",
    "X_kbest = f_selector.fit_transform(X_train, Y_train)\n",
    "\n",
    "# Retrieve the indices of selected features and their scores\n",
    "selected_indices = f_selector.get_support(indices=True)\n",
    "feature_scores = f_selector.scores_[selected_indices]\n",
    "\n",
    "# Filter selected indices and scores based on the threshold\n",
    "indices_above_threshold = [index for index, score in zip(selected_indices, feature_scores) if score > threshold]\n",
    "scores_above_threshold = [score for score in feature_scores if score > threshold]\n",
    "\n",
    "# Plot the scores of the selected features above the threshold\n",
    "plt.figure(figsize=(10, 6))\n",
    "plt.bar(range(len(indices_above_threshold)), scores_above_threshold)\n",
    "plt.xlabel('Selected Feature Indices (Score > 5)')\n",
    "plt.ylabel('Feature Score')\n",
    "plt.title('Scores of Selected Features above Threshold from SelectKBest (f_regression)')\n",
    "plt.xticks(range(len(indices_above_threshold)), indices_above_threshold)\n",
    "plt.show()\n",
    "\n",
    "#maybe I'll choose an arbitrary number, maybe 5 as the cutoff. "
   ]
  },
  {
   "cell_type": "code",
   "execution_count": 304,
   "id": "94e45481",
   "metadata": {},
   "outputs": [
    {
     "name": "stdout",
     "output_type": "stream",
     "text": [
      "[0, 6, 17, 22, 31, 45, 49, 53, 54, 59, 69, 89, 99, 116, 117, 124, 126, 131, 147, 148, 155, 162, 177, 186]\n",
      "[[0 2 2 ... 0 2 0]\n",
      " [0 2 2 ... 0 1 0]\n",
      " [0 2 2 ... 0 1 0]\n",
      " ...\n",
      " [0 2 2 ... 0 1 0]\n",
      " [0 2 1 ... 2 1 1]\n",
      " [0 2 2 ... 0 1 1]]\n"
     ]
    }
   ],
   "source": [
    "print(indices_above_threshold)\n",
    "X_train_feature_selection = X_train_df[:,indices_above_threshold]\n",
    "print(X_train_feature_selection)\n",
    "      \n",
    "#these are the selected features. "
   ]
  },
  {
   "cell_type": "code",
   "execution_count": 239,
   "id": "35cb515c",
   "metadata": {},
   "outputs": [
    {
     "name": "stderr",
     "output_type": "stream",
     "text": [
      "/Library/Frameworks/Python.framework/Versions/3.10/lib/python3.10/site-packages/sklearn/ensemble/_gb.py:294: FutureWarning: The loss 'ls' was deprecated in v1.0 and will be removed in version 1.2. Use 'squared_error' which is equivalent.\n",
      "  warnings.warn(\n"
     ]
    },
    {
     "data": {
      "text/html": [
       "<style>#sk-container-id-2 {color: black;background-color: white;}#sk-container-id-2 pre{padding: 0;}#sk-container-id-2 div.sk-toggleable {background-color: white;}#sk-container-id-2 label.sk-toggleable__label {cursor: pointer;display: block;width: 100%;margin-bottom: 0;padding: 0.3em;box-sizing: border-box;text-align: center;}#sk-container-id-2 label.sk-toggleable__label-arrow:before {content: \"▸\";float: left;margin-right: 0.25em;color: #696969;}#sk-container-id-2 label.sk-toggleable__label-arrow:hover:before {color: black;}#sk-container-id-2 div.sk-estimator:hover label.sk-toggleable__label-arrow:before {color: black;}#sk-container-id-2 div.sk-toggleable__content {max-height: 0;max-width: 0;overflow: hidden;text-align: left;background-color: #f0f8ff;}#sk-container-id-2 div.sk-toggleable__content pre {margin: 0.2em;color: black;border-radius: 0.25em;background-color: #f0f8ff;}#sk-container-id-2 input.sk-toggleable__control:checked~div.sk-toggleable__content {max-height: 200px;max-width: 100%;overflow: auto;}#sk-container-id-2 input.sk-toggleable__control:checked~label.sk-toggleable__label-arrow:before {content: \"▾\";}#sk-container-id-2 div.sk-estimator input.sk-toggleable__control:checked~label.sk-toggleable__label {background-color: #d4ebff;}#sk-container-id-2 div.sk-label input.sk-toggleable__control:checked~label.sk-toggleable__label {background-color: #d4ebff;}#sk-container-id-2 input.sk-hidden--visually {border: 0;clip: rect(1px 1px 1px 1px);clip: rect(1px, 1px, 1px, 1px);height: 1px;margin: -1px;overflow: hidden;padding: 0;position: absolute;width: 1px;}#sk-container-id-2 div.sk-estimator {font-family: monospace;background-color: #f0f8ff;border: 1px dotted black;border-radius: 0.25em;box-sizing: border-box;margin-bottom: 0.5em;}#sk-container-id-2 div.sk-estimator:hover {background-color: #d4ebff;}#sk-container-id-2 div.sk-parallel-item::after {content: \"\";width: 100%;border-bottom: 1px solid gray;flex-grow: 1;}#sk-container-id-2 div.sk-label:hover label.sk-toggleable__label {background-color: #d4ebff;}#sk-container-id-2 div.sk-serial::before {content: \"\";position: absolute;border-left: 1px solid gray;box-sizing: border-box;top: 0;bottom: 0;left: 50%;z-index: 0;}#sk-container-id-2 div.sk-serial {display: flex;flex-direction: column;align-items: center;background-color: white;padding-right: 0.2em;padding-left: 0.2em;position: relative;}#sk-container-id-2 div.sk-item {position: relative;z-index: 1;}#sk-container-id-2 div.sk-parallel {display: flex;align-items: stretch;justify-content: center;background-color: white;position: relative;}#sk-container-id-2 div.sk-item::before, #sk-container-id-2 div.sk-parallel-item::before {content: \"\";position: absolute;border-left: 1px solid gray;box-sizing: border-box;top: 0;bottom: 0;left: 50%;z-index: -1;}#sk-container-id-2 div.sk-parallel-item {display: flex;flex-direction: column;z-index: 1;position: relative;background-color: white;}#sk-container-id-2 div.sk-parallel-item:first-child::after {align-self: flex-end;width: 50%;}#sk-container-id-2 div.sk-parallel-item:last-child::after {align-self: flex-start;width: 50%;}#sk-container-id-2 div.sk-parallel-item:only-child::after {width: 0;}#sk-container-id-2 div.sk-dashed-wrapped {border: 1px dashed gray;margin: 0 0.4em 0.5em 0.4em;box-sizing: border-box;padding-bottom: 0.4em;background-color: white;}#sk-container-id-2 div.sk-label label {font-family: monospace;font-weight: bold;display: inline-block;line-height: 1.2em;}#sk-container-id-2 div.sk-label-container {text-align: center;}#sk-container-id-2 div.sk-container {/* jupyter's `normalize.less` sets `[hidden] { display: none; }` but bootstrap.min.css set `[hidden] { display: none !important; }` so we also need the `!important` here to be able to override the default hidden behavior on the sphinx rendered scikit-learn.org. See: https://github.com/scikit-learn/scikit-learn/issues/21755 */display: inline-block !important;position: relative;}#sk-container-id-2 div.sk-text-repr-fallback {display: none;}</style><div id=\"sk-container-id-2\" class=\"sk-top-container\"><div class=\"sk-text-repr-fallback\"><pre>GradientBoostingRegressor(loss=&#x27;ls&#x27;, max_depth=8, max_features=&#x27;sqrt&#x27;,\n",
       "                          min_samples_split=500, n_estimators=200,\n",
       "                          random_state=0)</pre><b>In a Jupyter environment, please rerun this cell to show the HTML representation or trust the notebook. <br />On GitHub, the HTML representation is unable to render, please try loading this page with nbviewer.org.</b></div><div class=\"sk-container\" hidden><div class=\"sk-item\"><div class=\"sk-estimator sk-toggleable\"><input class=\"sk-toggleable__control sk-hidden--visually\" id=\"sk-estimator-id-2\" type=\"checkbox\" checked><label for=\"sk-estimator-id-2\" class=\"sk-toggleable__label sk-toggleable__label-arrow\">GradientBoostingRegressor</label><div class=\"sk-toggleable__content\"><pre>GradientBoostingRegressor(loss=&#x27;ls&#x27;, max_depth=8, max_features=&#x27;sqrt&#x27;,\n",
       "                          min_samples_split=500, n_estimators=200,\n",
       "                          random_state=0)</pre></div></div></div></div></div>"
      ],
      "text/plain": [
       "GradientBoostingRegressor(loss='ls', max_depth=8, max_features='sqrt',\n",
       "                          min_samples_split=500, n_estimators=200,\n",
       "                          random_state=0)"
      ]
     },
     "execution_count": 239,
     "metadata": {},
     "output_type": "execute_result"
    }
   ],
   "source": [
    "#another feature selection technique\n",
    "from sklearn.preprocessing import StandardScaler\n",
    "from sklearn.ensemble import RandomForestRegressor\n",
    "from sklearn.linear_model import Lasso\n",
    "from sklearn.ensemble import GradientBoostingRegressor\n",
    "from sklearn.metrics import r2_score\n",
    "gbr = GradientBoostingRegressor(loss='ls', n_estimators=200, learning_rate=0.1, \n",
    "                                max_depth=8, max_features = 'sqrt',  \n",
    "                                min_samples_split = 500, random_state=0)\n",
    "gbr.fit(X_train_df, Y_train_df)\n",
    "\n",
    "\n",
    "gbr"
   ]
  },
  {
   "cell_type": "code",
   "execution_count": 240,
   "id": "35c7760a",
   "metadata": {},
   "outputs": [
    {
     "ename": "NameError",
     "evalue": "name 'remainder_cols' is not defined",
     "output_type": "error",
     "traceback": [
      "\u001b[0;31m---------------------------------------------------------------------------\u001b[0m",
      "\u001b[0;31mNameError\u001b[0m                                 Traceback (most recent call last)",
      "Input \u001b[0;32mIn [240]\u001b[0m, in \u001b[0;36m<cell line: 3>\u001b[0;34m()\u001b[0m\n\u001b[1;32m      1\u001b[0m \u001b[38;5;66;03m#lasso regression \u001b[39;00m\n\u001b[0;32m----> 3\u001b[0m lasso_feature_coef_df \u001b[38;5;241m=\u001b[39m pd\u001b[38;5;241m.\u001b[39mDataFrame(np\u001b[38;5;241m.\u001b[39mzeros((\u001b[38;5;28mlen\u001b[39m(\u001b[43mremainder_cols\u001b[49m), \u001b[38;5;28mlen\u001b[39m(alpha))), index\u001b[38;5;241m=\u001b[39mremainder_cols, columns\u001b[38;5;241m=\u001b[39malpha)\n\u001b[1;32m      4\u001b[0m \u001b[38;5;28;01mfor\u001b[39;00m a \u001b[38;5;129;01min\u001b[39;00m alpha: \n\u001b[1;32m      5\u001b[0m     lasso \u001b[38;5;241m=\u001b[39m Lasso(alpha\u001b[38;5;241m=\u001b[39ma)\n",
      "\u001b[0;31mNameError\u001b[0m: name 'remainder_cols' is not defined"
     ]
    }
   ],
   "source": []
  },
  {
   "cell_type": "code",
   "execution_count": 231,
   "id": "203a3d4d",
   "metadata": {},
   "outputs": [
    {
     "name": "stdout",
     "output_type": "stream",
     "text": [
      "Mean Squared Error across 5-fold Cross-Validation: 0.6307937962322252\n"
     ]
    }
   ],
   "source": [
    "from sklearn.ensemble import BaggingClassifier\n",
    "from sklearn.metrics import accuracy_score\n",
    "from sklearn.svm import SVC\n",
    "from sklearn.ensemble import BaggingRegressor\n",
    "\n",
    "\n",
    "#trim data\n",
    "X_train, X_test, y_train, y_test = train_test_split(X_train_feature_selection, Y_train, test_size=0.2, random_state=42)\n",
    "\n",
    "# Create an SVR regressor\n",
    "svr_regressor = SVR(kernel='rbf', gamma='auto')  # You can adjust SVR parameters as needed\n",
    "\n",
    "# Create a Bagging Regressor with SVR as the base estimator\n",
    "bagged_svr = BaggingRegressor(base_estimator=svr_regressor, n_estimators=10, random_state=42)\n",
    "\n",
    "# Perform k-fold cross-validation (e.g., with k=5)\n",
    "k =5\n",
    "mse_scores = cross_val_score(bagged_svr, X_train_feature_selection, Y_train.ravel(), cv=k, scoring='neg_mean_squared_error')\n",
    "\n",
    "# Convert negative MSE scores to positive and calculate mean\n",
    "mse_scores_positive = -mse_scores  # convert back to positive values\n",
    "mean_mse = mse_scores_positive.mean()\n",
    "\n",
    "print(f\"Mean Squared Error across {k}-fold Cross-Validation: {mean_mse}\")"
   ]
  },
  {
   "cell_type": "code",
   "execution_count": 258,
   "id": "d1556131",
   "metadata": {},
   "outputs": [
    {
     "name": "stderr",
     "output_type": "stream",
     "text": [
      "/var/folders/y2/xc9jb_w133n8tymks1sbxh7m0000gp/T/ipykernel_63404/1876415289.py:11: DataConversionWarning: A column-vector y was passed when a 1d array was expected. Please change the shape of y to (n_samples,), for example using ravel().\n",
      "  clf.fit(X_train, y_train)\n"
     ]
    },
    {
     "data": {
      "text/html": [
       "<style>#sk-container-id-5 {color: black;background-color: white;}#sk-container-id-5 pre{padding: 0;}#sk-container-id-5 div.sk-toggleable {background-color: white;}#sk-container-id-5 label.sk-toggleable__label {cursor: pointer;display: block;width: 100%;margin-bottom: 0;padding: 0.3em;box-sizing: border-box;text-align: center;}#sk-container-id-5 label.sk-toggleable__label-arrow:before {content: \"▸\";float: left;margin-right: 0.25em;color: #696969;}#sk-container-id-5 label.sk-toggleable__label-arrow:hover:before {color: black;}#sk-container-id-5 div.sk-estimator:hover label.sk-toggleable__label-arrow:before {color: black;}#sk-container-id-5 div.sk-toggleable__content {max-height: 0;max-width: 0;overflow: hidden;text-align: left;background-color: #f0f8ff;}#sk-container-id-5 div.sk-toggleable__content pre {margin: 0.2em;color: black;border-radius: 0.25em;background-color: #f0f8ff;}#sk-container-id-5 input.sk-toggleable__control:checked~div.sk-toggleable__content {max-height: 200px;max-width: 100%;overflow: auto;}#sk-container-id-5 input.sk-toggleable__control:checked~label.sk-toggleable__label-arrow:before {content: \"▾\";}#sk-container-id-5 div.sk-estimator input.sk-toggleable__control:checked~label.sk-toggleable__label {background-color: #d4ebff;}#sk-container-id-5 div.sk-label input.sk-toggleable__control:checked~label.sk-toggleable__label {background-color: #d4ebff;}#sk-container-id-5 input.sk-hidden--visually {border: 0;clip: rect(1px 1px 1px 1px);clip: rect(1px, 1px, 1px, 1px);height: 1px;margin: -1px;overflow: hidden;padding: 0;position: absolute;width: 1px;}#sk-container-id-5 div.sk-estimator {font-family: monospace;background-color: #f0f8ff;border: 1px dotted black;border-radius: 0.25em;box-sizing: border-box;margin-bottom: 0.5em;}#sk-container-id-5 div.sk-estimator:hover {background-color: #d4ebff;}#sk-container-id-5 div.sk-parallel-item::after {content: \"\";width: 100%;border-bottom: 1px solid gray;flex-grow: 1;}#sk-container-id-5 div.sk-label:hover label.sk-toggleable__label {background-color: #d4ebff;}#sk-container-id-5 div.sk-serial::before {content: \"\";position: absolute;border-left: 1px solid gray;box-sizing: border-box;top: 0;bottom: 0;left: 50%;z-index: 0;}#sk-container-id-5 div.sk-serial {display: flex;flex-direction: column;align-items: center;background-color: white;padding-right: 0.2em;padding-left: 0.2em;position: relative;}#sk-container-id-5 div.sk-item {position: relative;z-index: 1;}#sk-container-id-5 div.sk-parallel {display: flex;align-items: stretch;justify-content: center;background-color: white;position: relative;}#sk-container-id-5 div.sk-item::before, #sk-container-id-5 div.sk-parallel-item::before {content: \"\";position: absolute;border-left: 1px solid gray;box-sizing: border-box;top: 0;bottom: 0;left: 50%;z-index: -1;}#sk-container-id-5 div.sk-parallel-item {display: flex;flex-direction: column;z-index: 1;position: relative;background-color: white;}#sk-container-id-5 div.sk-parallel-item:first-child::after {align-self: flex-end;width: 50%;}#sk-container-id-5 div.sk-parallel-item:last-child::after {align-self: flex-start;width: 50%;}#sk-container-id-5 div.sk-parallel-item:only-child::after {width: 0;}#sk-container-id-5 div.sk-dashed-wrapped {border: 1px dashed gray;margin: 0 0.4em 0.5em 0.4em;box-sizing: border-box;padding-bottom: 0.4em;background-color: white;}#sk-container-id-5 div.sk-label label {font-family: monospace;font-weight: bold;display: inline-block;line-height: 1.2em;}#sk-container-id-5 div.sk-label-container {text-align: center;}#sk-container-id-5 div.sk-container {/* jupyter's `normalize.less` sets `[hidden] { display: none; }` but bootstrap.min.css set `[hidden] { display: none !important; }` so we also need the `!important` here to be able to override the default hidden behavior on the sphinx rendered scikit-learn.org. See: https://github.com/scikit-learn/scikit-learn/issues/21755 */display: inline-block !important;position: relative;}#sk-container-id-5 div.sk-text-repr-fallback {display: none;}</style><div id=\"sk-container-id-5\" class=\"sk-top-container\"><div class=\"sk-text-repr-fallback\"><pre>RandomForestRegressor(n_estimators=50, random_state=42)</pre><b>In a Jupyter environment, please rerun this cell to show the HTML representation or trust the notebook. <br />On GitHub, the HTML representation is unable to render, please try loading this page with nbviewer.org.</b></div><div class=\"sk-container\" hidden><div class=\"sk-item\"><div class=\"sk-estimator sk-toggleable\"><input class=\"sk-toggleable__control sk-hidden--visually\" id=\"sk-estimator-id-5\" type=\"checkbox\" checked><label for=\"sk-estimator-id-5\" class=\"sk-toggleable__label sk-toggleable__label-arrow\">RandomForestRegressor</label><div class=\"sk-toggleable__content\"><pre>RandomForestRegressor(n_estimators=50, random_state=42)</pre></div></div></div></div></div>"
      ],
      "text/plain": [
       "RandomForestRegressor(n_estimators=50, random_state=42)"
      ]
     },
     "execution_count": 258,
     "metadata": {},
     "output_type": "execute_result"
    }
   ],
   "source": [
    "#maybe try another model \n",
    "\n",
    "#maybe linear regrerssion \n",
    "X_train, X_test, y_train, y_test = train_test_split(X_train_feature_selection, Y_train, test_size=0.2, random_state=42)\n",
    "\n",
    "#random forest\n",
    "# Create the Random Forest classifier\n",
    "clf = RandomForestRegressor(n_estimators=50, random_state=42)\n",
    "\n",
    "# Train the classifier\n",
    "clf.fit(X_train, y_train)\n",
    "\n",
    "#random forest. "
   ]
  },
  {
   "cell_type": "code",
   "execution_count": 273,
   "id": "0e4a7118",
   "metadata": {},
   "outputs": [
    {
     "name": "stdout",
     "output_type": "stream",
     "text": [
      "updating: predictions.csv (deflated 77%)\n",
      "[-0.21358943 -1.00688697 -0.64591343 ... -0.0991216  -0.51005215\n",
      " -0.38124674]\n"
     ]
    }
   ],
   "source": [
    "X_test_final = pd.read_csv(\"test.genotype.txt\", sep = \" \", header=None).values\n",
    "#need to actually get the causal snps from this \n",
    "\n",
    "X_test_df_final = pd.DataFrame(X_test_final)\n",
    "\n",
    "X_test_df_final = X_test_df_final.values[:,indices_above_threshold]\n",
    "\n",
    "\n",
    "y_test = clf.predict(X_test_df_final)\n",
    "pd.DataFrame(y_test).to_csv(f\"predictions.csv\", sep = \" \", header = None, index = None)\n",
    "os.system(\"zip -r predictions.zip predictions.csv\")\n",
    "\n",
    "print(y_test)\n",
    "\n",
    "#this does terrribly, it gets a -13. "
   ]
  },
  {
   "cell_type": "code",
   "execution_count": 307,
   "id": "6f0c7516",
   "metadata": {},
   "outputs": [
    {
     "name": "stdout",
     "output_type": "stream",
     "text": [
      "updating: predictions.csv (deflated 54%)\n",
      "[[-0.49098709]\n",
      " [-0.73982904]\n",
      " [-0.80907394]\n",
      " ...\n",
      " [-0.09394179]\n",
      " [-0.33734192]\n",
      " [-0.27927544]]\n"
     ]
    }
   ],
   "source": [
    "#according to R the best variables are X54, X131, X6, X59 and X155. \n",
    "#recursive. \n",
    "\n",
    "#try linear regression with these ones.\n",
    "\n",
    "X_test_final = pd.read_csv(\"test.genotype.txt\", sep = \" \", header=None).values\n",
    "#need to actually get the causal snps from this \n",
    "\n",
    "X_test_df_final = pd.DataFrame(X_test_final)\n",
    "\n",
    "\n",
    "X_train_feature_selection = X_train_df[:,indices_above_threshold]\n",
    "\n",
    "X_test_df_final = X_test_df_final.values[:,indices_above_threshold]\n",
    "\n",
    "\n",
    "from sklearn.linear_model import LinearRegression\n",
    "\n",
    "#this is the same relatively as above, performs a bit worse. \n",
    "\n",
    "# Assuming X_train contains SNP data and y_train contains proportions of ancestries A, B, C\n",
    "\n",
    "# Initialize multivariate multiple regression model\n",
    "multivariate_regression = LinearRegression()\n",
    "\n",
    "# Fit the model with SNP data to predict proportions of ancestries A, B, C\n",
    "multivariate_regression.fit(X_train_feature_selection, Y_train)  # y_train should contain proportions of A, B, C as columns\n",
    "\n",
    "# Predict proportions for test SNP data\n",
    "predictions = multivariate_regression.predict(X_test_df_final)\n",
    "\n",
    "pd.DataFrame(predictions).to_csv(f\"predictions.csv\", sep = \" \", header = None, index = None)\n",
    "os.system(\"zip -r predictions.zip predictions.csv\")\n",
    "\n",
    "print(predictions)\n",
    "\n",
    "\n",
    "#THIS RUN GETS A GREAT SCORE. USE THE INDICES ABOVE THRESHOLD OF 3!!! TRY PLAYING AROUND WITH DIFFERENT VALUES!"
   ]
  }
 ],
 "metadata": {
  "kernelspec": {
   "display_name": "Python 3 (ipykernel)",
   "language": "python",
   "name": "python3"
  },
  "language_info": {
   "codemirror_mode": {
    "name": "ipython",
    "version": 3
   },
   "file_extension": ".py",
   "mimetype": "text/x-python",
   "name": "python",
   "nbconvert_exporter": "python",
   "pygments_lexer": "ipython3",
   "version": "3.10.5"
  }
 },
 "nbformat": 4,
 "nbformat_minor": 5
}

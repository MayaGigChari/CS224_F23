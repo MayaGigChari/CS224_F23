{
 "cells": [
  {
   "cell_type": "code",
   "execution_count": 22,
   "id": "a95f0a9d",
   "metadata": {},
   "outputs": [],
   "source": [
    "import os\n",
    "import numpy as np \n",
    "import pandas as pd\n",
    "import matplotlib.pyplot as plt\n",
    "\n",
    "\n",
    "from sklearn.linear_model import LinearRegression\n",
    "import statsmodels.api as sm\n",
    "from sklearn.datasets import make_regression\n",
    "from sklearn.model_selection import train_test_split\n",
    "from sklearn.metrics import mean_squared_error\n",
    "\n"
   ]
  },
  {
   "cell_type": "code",
   "execution_count": 23,
   "id": "2cf708d4",
   "metadata": {
    "scrolled": true
   },
   "outputs": [],
   "source": [
    "X_train = pd.read_csv(\"train.genotype.txt\", sep = \" \", header=None).values\n",
    "X_test = pd.read_csv(\"test.genotype.txt\", sep = \" \", header=None).values\n",
    "\n",
    "Y_train = pd.read_csv(\"train.phenotype.txt\", sep = \" \", header=None).values\n",
    " \n",
    "\n",
    "\n",
    "X_train_df = pd.DataFrame(X_train)\n",
    "Y_train_df = pd.DataFrame(Y_train)\n",
    "Y_train_df = np.array(Y_train_df.iloc[:, 0])\n",
    "\n",
    "#df.to_csv('output.csv', index=False)  # Use index=False to exclude row numbers in the output\n",
    "\n",
    "#print(X_train_df)\n",
    "\n",
    "X_train_df = X_train_df.values\n"
   ]
  },
  {
   "cell_type": "code",
   "execution_count": 24,
   "id": "fdaee87b",
   "metadata": {},
   "outputs": [
    {
     "name": "stdout",
     "output_type": "stream",
     "text": [
      "Training data shape :  (2000, 200)\n",
      "Testing data shape :  (3000, 200)\n"
     ]
    },
    {
     "data": {
      "text/plain": [
       "(array([  1.,   0.,   0.,   2.,   2.,   0.,   1.,   7.,   8.,   6.,  15.,\n",
       "         17.,  21.,  25.,  41.,  42.,  46.,  61.,  56.,  63.,  90., 103.,\n",
       "         96., 114., 120., 102., 105.,  92., 111., 105.,  80.,  82.,  79.,\n",
       "         55.,  47.,  44.,  30.,  47.,  27.,  19.,  15.,   3.,   8.,   6.,\n",
       "          0.,   0.,   2.,   0.,   2.,   2.]),\n",
       " array([-3.366759  , -3.25203862, -3.13731824, -3.02259786, -2.90787748,\n",
       "        -2.7931571 , -2.67843672, -2.56371634, -2.44899596, -2.33427558,\n",
       "        -2.2195552 , -2.10483482, -1.99011444, -1.87539406, -1.76067368,\n",
       "        -1.6459533 , -1.53123292, -1.41651254, -1.30179216, -1.18707178,\n",
       "        -1.0723514 , -0.95763102, -0.84291064, -0.72819026, -0.61346988,\n",
       "        -0.4987495 , -0.38402912, -0.26930874, -0.15458836, -0.03986798,\n",
       "         0.0748524 ,  0.18957278,  0.30429316,  0.41901354,  0.53373392,\n",
       "         0.6484543 ,  0.76317468,  0.87789506,  0.99261544,  1.10733582,\n",
       "         1.2220562 ,  1.33677658,  1.45149696,  1.56621734,  1.68093772,\n",
       "         1.7956581 ,  1.91037848,  2.02509886,  2.13981924,  2.25453962,\n",
       "         2.36926   ]),\n",
       " <BarContainer object of 50 artists>)"
      ]
     },
     "execution_count": 24,
     "metadata": {},
     "output_type": "execute_result"
    },
    {
     "data": {
      "image/png": "[encoded data removed]",
      "text/plain": [
       "<Figure size 432x288 with 1 Axes>"
      ]
     },
     "metadata": {
      "needs_background": "light"
     },
     "output_type": "display_data"
    }
   ],
   "source": [
    "#need to somehow reduce dimensionality of non-causal snps, becuase this dataset is too large. \n",
    "print('Training data shape : ', X_train.shape)\n",
    "\n",
    "print('Testing data shape : ', X_test.shape)\n",
    "\n",
    "#right now we have 200 different snps \n",
    "\n",
    "#MUST do feature selection. \n",
    "\n",
    "plt.hist(Y_train, bins = 50) #normally distributed, try to do linear regression maybe OLS. "
   ]
  },
  {
   "cell_type": "code",
   "execution_count": 25,
   "id": "8450c008",
   "metadata": {},
   "outputs": [
    {
     "name": "stderr",
     "output_type": "stream",
     "text": [
      "/Library/Frameworks/Python.framework/Versions/3.10/lib/python3.10/site-packages/sklearn/utils/validation.py:1111: DataConversionWarning: A column-vector y was passed when a 1d array was expected. Please change the shape of y to (n_samples, ), for example using ravel().\n",
      "  y = column_or_1d(y, warn=True)\n"
     ]
    },
    {
     "data": {
      "image/png": "[encoded data removed]",
      "text/plain": [
       "<Figure size 720x432 with 1 Axes>"
      ]
     },
     "metadata": {
      "needs_background": "light"
     },
     "output_type": "display_data"
    }
   ],
   "source": [
    "\n",
    "import matplotlib.pyplot as plt\n",
    "from sklearn.feature_selection import SelectKBest, f_regression\n",
    "\n",
    "#tried this with threshold = 5,2 and 10 and the best one was this one where it's 3. \n",
    "\n",
    "k = 200  # select all the features \n",
    "threshold = 3 #set a threshold to account for features that are actually useful.  \n",
    "f_selector = SelectKBest(f_regression, k=k)\n",
    "X_kbest = f_selector.fit_transform(X_train, Y_train)\n",
    "\n",
    "# Retrieve the indices of selected features and their scores\n",
    "selected_indices = f_selector.get_support(indices=True)\n",
    "feature_scores = f_selector.scores_[selected_indices]\n",
    "\n",
    "# Filter selected indices and scores based on the threshold\n",
    "indices_above_threshold = [index for index, score in zip(selected_indices, feature_scores) if score > threshold]\n",
    "scores_above_threshold = [score for score in feature_scores if score > threshold]\n",
    "\n",
    "# Plot the scores of the selected features above the threshold to visualize. \n",
    "plt.figure(figsize=(10, 6))\n",
    "plt.bar(range(len(indices_above_threshold)), scores_above_threshold)\n",
    "plt.xlabel('Selected Feature Indices (Score > 3)')\n",
    "plt.ylabel('Feature Score')\n",
    "plt.title('Scores of Selected Features above Threshold from SelectKBest (f_regression)')\n",
    "plt.xticks(range(len(indices_above_threshold)), indices_above_threshold)\n",
    "plt.show()\n",
    "\n"
   ]
  },
  {
   "cell_type": "code",
   "execution_count": 26,
   "id": "94e45481",
   "metadata": {},
   "outputs": [
    {
     "name": "stdout",
     "output_type": "stream",
     "text": [
      "[0, 6, 17, 22, 31, 45, 49, 53, 54, 59, 69, 89, 99, 116, 117, 124, 126, 131, 147, 148, 155, 162, 177, 186]\n",
      "[[0 2 2 ... 0 2 0]\n",
      " [0 2 2 ... 0 1 0]\n",
      " [0 2 2 ... 0 1 0]\n",
      " ...\n",
      " [0 2 2 ... 0 1 0]\n",
      " [0 2 1 ... 2 1 1]\n",
      " [0 2 2 ... 0 1 1]]\n"
     ]
    }
   ],
   "source": [
    "print(indices_above_threshold)\n",
    "X_train_feature_selection = X_train_df[:,indices_above_threshold]\n",
    "print(X_train_feature_selection)\n",
    "      \n",
    "#these are the selected features. "
   ]
  },
  {
   "cell_type": "code",
   "execution_count": 27,
   "id": "c13bb7bc",
   "metadata": {},
   "outputs": [],
   "source": [
    "\n",
    "#try OLS\n",
    "\n",
    "\n",
    "#load data and do whatever preprocessing stuff that is probably unnecessary and redundant \n",
    "X_test_final = pd.read_csv(\"test.genotype.txt\", sep = \" \", header=None).values\n",
    "X_test_df_final = pd.DataFrame(X_test_final)\n",
    "\n",
    "#choose the features from the feature selection thing above in the training dataset.\n",
    "X_train_feature_selection = X_train_df[:,indices_above_threshold]\n",
    "\n",
    "#choose the features from the feature selection thing for the test dataset. \n",
    "X_test_df_final = X_test_df_final.values[:,indices_above_threshold]\n"
   ]
  },
  {
   "cell_type": "code",
   "execution_count": 30,
   "id": "7e563db4",
   "metadata": {},
   "outputs": [
    {
     "name": "stdout",
     "output_type": "stream",
     "text": [
      "Mean Squared Error: 0.5849347776419335\n",
      "updating: predictions.csv (deflated 54%)\n"
     ]
    },
    {
     "data": {
      "text/plain": [
       "0"
      ]
     },
     "execution_count": 30,
     "metadata": {},
     "output_type": "execute_result"
    }
   ],
   "source": [
    "#ask about submitting this score because I accidentally messed up. \n",
    "\n",
    "X_train, X_test, y_train, y_test = train_test_split(X_train_feature_selection, Y_train, test_size=0.2, random_state=42)\n",
    "\n",
    "# Fit an Ordinary Least Squares (OLS) model\n",
    "\n",
    "ols_model = sm.OLS(y_train, X_train)\n",
    "ols_results = ols_model.fit()\n",
    "\n",
    "# Predict on the validation set\n",
    "y_pred = ols_results.predict(X_test)\n",
    "\n",
    "# Calculate mean squared error\n",
    "mse = mean_squared_error(y_test, y_pred)\n",
    "print(f\"Mean Squared Error: {mse}\")\n",
    "\n",
    "\n",
    "\n",
    "#predict on unseen data (test set)\n",
    "ols_pred = ols_results.predict(X_test_df_final)\n",
    "\n",
    "#save to dataframe \n",
    "pd.DataFrame(ols_pred).to_csv(f\"predictions.csv\", sep = \" \", header = None, index = None)\n",
    "os.system(\"zip -r predictions.zip predictions.csv\")\n"
   ]
  },
  {
   "cell_type": "code",
   "execution_count": null,
   "id": "c2b29373",
   "metadata": {},
   "outputs": [],
   "source": []
  }
 ],
 "metadata": {
  "kernelspec": {
   "display_name": "Python 3 (ipykernel)",
   "language": "python",
   "name": "python3"
  },
  "language_info": {
   "codemirror_mode": {
    "name": "ipython",
    "version": 3
   },
   "file_extension": ".py",
   "mimetype": "text/x-python",
   "name": "python",
   "nbconvert_exporter": "python",
   "pygments_lexer": "ipython3",
   "version": "3.10.5"
  }
 },
 "nbformat": 4,
 "nbformat_minor": 5
}

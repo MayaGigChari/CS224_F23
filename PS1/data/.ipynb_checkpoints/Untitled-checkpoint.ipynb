{
 "cells": [
  {
   "cell_type": "code",
   "execution_count": 14,
   "id": "f6aca098",
   "metadata": {},
   "outputs": [],
   "source": [
    "#problem set 1 homework question 3\n",
    "\n",
    "import numpy as np\n",
    "import scipy"
   ]
  },
  {
   "cell_type": "code",
   "execution_count": 15,
   "id": "93e8355e",
   "metadata": {},
   "outputs": [],
   "source": [
    "genotype_data =  np.loadtxt(\"ps1.genos\")\n",
    "phenotype_data = np.loadtxt(\"ps1.phenos\")\n",
    "#assuming that the genotypes and phenotypes are ordered. "
   ]
  },
  {
   "cell_type": "code",
   "execution_count": 16,
   "id": "0a5a2544",
   "metadata": {},
   "outputs": [],
   "source": [
    "#step 1: choose only the first column of the genotype data\n",
    "\n",
    "snp_1_data = genotype_data[:,1]\n"
   ]
  },
  {
   "cell_type": "code",
   "execution_count": 19,
   "id": "7040f0f1",
   "metadata": {},
   "outputs": [
    {
     "name": "stdout",
     "output_type": "stream",
     "text": [
      "-0.03752810736797896\n",
      "0.5547845308194016\n"
     ]
    }
   ],
   "source": [
    "r, p = scipy.stats.pearsonr(snp_1_data, phenotype_data)"
   ]
  },
  {
   "cell_type": "code",
   "execution_count": 38,
   "id": "960b0e30",
   "metadata": {},
   "outputs": [
    {
     "ename": "TypeError",
     "evalue": "ufunc 'bitwise_xor' not supported for the input types, and the inputs could not be safely coerced to any supported types according to the casting rule ''safe''",
     "output_type": "error",
     "traceback": [
      "\u001b[0;31m---------------------------------------------------------------------------\u001b[0m",
      "\u001b[0;31mTypeError\u001b[0m                                 Traceback (most recent call last)",
      "Input \u001b[0;32mIn [38]\u001b[0m, in \u001b[0;36m<cell line: 6>\u001b[0;34m()\u001b[0m\n\u001b[1;32m      7\u001b[0m shuffle_1 \u001b[38;5;241m=\u001b[39m np\u001b[38;5;241m.\u001b[39mrandom\u001b[38;5;241m.\u001b[39mshuffle(snp_1_data)\n\u001b[1;32m      8\u001b[0m r2, p2 \u001b[38;5;241m=\u001b[39m scipy\u001b[38;5;241m.\u001b[39mstats\u001b[38;5;241m.\u001b[39mpearsonr(snp_1_data, phenotype_data)\n\u001b[0;32m----> 9\u001b[0m r_values\u001b[38;5;241m.\u001b[39mappend(\u001b[43mr2\u001b[49m\u001b[38;5;241;43m^\u001b[39;49m\u001b[38;5;241;43m2\u001b[39;49m)\n\u001b[1;32m     10\u001b[0m p_values\u001b[38;5;241m.\u001b[39mappend(p2\u001b[38;5;241m^\u001b[39m\u001b[38;5;241m2\u001b[39m)\n",
      "\u001b[0;31mTypeError\u001b[0m: ufunc 'bitwise_xor' not supported for the input types, and the inputs could not be safely coerced to any supported types according to the casting rule ''safe''"
     ]
    }
   ],
   "source": [
    "r_values = []\n",
    "p_values = []\n",
    "permutations = 10001\n",
    "\n",
    "\n",
    "for i in range(permutations):\n",
    "    shuffle_1 = np.random.shuffle(snp_1_data)\n",
    "    r2, p2 = scipy.stats.pearsonr(snp_1_data, phenotype_data)\n",
    "    r_values.append(r2)\n",
    "    p_values.append(p2^2)\n"
   ]
  },
  {
   "cell_type": "code",
   "execution_count": null,
   "id": "1fb904c8",
   "metadata": {},
   "outputs": [],
   "source": []
  }
 ],
 "metadata": {
  "kernelspec": {
   "display_name": "Python 3 (ipykernel)",
   "language": "python",
   "name": "python3"
  },
  "language_info": {
   "codemirror_mode": {
    "name": "ipython",
    "version": 3
   },
   "file_extension": ".py",
   "mimetype": "text/x-python",
   "name": "python",
   "nbconvert_exporter": "python",
   "pygments_lexer": "ipython3",
   "version": "3.10.5"
  }
 },
 "nbformat": 4,
 "nbformat_minor": 5
}

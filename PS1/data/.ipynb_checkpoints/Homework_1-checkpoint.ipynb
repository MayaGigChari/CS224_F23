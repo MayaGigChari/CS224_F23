{
 "cells": [
  {
   "cell_type": "code",
   "execution_count": 124,
   "id": "13b96c81",
   "metadata": {},
   "outputs": [],
   "source": [
    "#problem set 1 homework question 3\n",
    "\n",
    "import numpy as np\n",
    "import scipy\n",
    "import matplotlib.pyplot as plt\n",
    "import scipy.stats as stats\n"
   ]
  },
  {
   "cell_type": "code",
   "execution_count": 103,
   "id": "1b8eaa7e",
   "metadata": {},
   "outputs": [],
   "source": [
    "genotype_data =  np.loadtxt(\"ps1.genos\")\n",
    "phenotype_data = np.loadtxt(\"ps1.phenos\")\n",
    "#assuming that the genotypes and phenotypes are ordered. "
   ]
  },
  {
   "cell_type": "code",
   "execution_count": 138,
   "id": "1520c643",
   "metadata": {},
   "outputs": [],
   "source": [
    "#step 1: choose only the first column of the genotype data\n",
    "\n",
    "snp_1_data = genotype_data[:,0]\n"
   ]
  },
  {
   "cell_type": "code",
   "execution_count": 139,
   "id": "e135d087",
   "metadata": {},
   "outputs": [
    {
     "name": "stdout",
     "output_type": "stream",
     "text": [
      "7.123297230470761\n"
     ]
    }
   ],
   "source": [
    "r, p = scipy.stats.pearsonr(snp_1_data, phenotype_data)\n",
    "data_size = len(phenotype_data)\n",
    "\n",
    "true_r = data_size*r**2\n",
    "print(true_r)"
   ]
  },
  {
   "cell_type": "code",
   "execution_count": 140,
   "id": "488fc3ea",
   "metadata": {},
   "outputs": [],
   "source": [
    "r_values = []\n",
    "permutations = 10001\n",
    "\n",
    "for i in range(permutations):\n",
    "    shuffle_1 = np.copy(snp_1_data)\n",
    "    np.random.shuffle(shuffle_1)\n",
    "    r2, p2 = scipy.stats.pearsonr(shuffle_1, phenotype_data)\n",
    "    r_values.append(data_size*r2**2)\n"
   ]
  },
  {
   "cell_type": "code",
   "execution_count": 141,
   "id": "be9c98e6",
   "metadata": {},
   "outputs": [
    {
     "data": {
      "image/png": "[encoded data removed]",
      "text/plain": [
       "<Figure size 432x288 with 1 Axes>"
      ]
     },
     "metadata": {
      "needs_background": "light"
     },
     "output_type": "display_data"
    }
   ],
   "source": [
    "plt.hist(r_values)\n",
    "plt.axvline(true_r, color='red', linestyle='dashed', linewidth=2, label=f'True Test Statistic (r²)')\n",
    "\n",
    "# Add a title, x-axis label, and y-axis label\n",
    "plt.title('Histogram of T1 scores compared to true score')\n",
    "plt.xlabel('Score')\n",
    "plt.ylabel('Frequency')\n",
    "\n",
    "# Add a legend\n",
    "plt.legend()\n",
    "\n",
    "# Show the plot\n",
    "plt.show()"
   ]
  },
  {
   "cell_type": "code",
   "execution_count": 142,
   "id": "24dae556",
   "metadata": {},
   "outputs": [
    {
     "name": "stdout",
     "output_type": "stream",
     "text": [
      "0.006\n"
     ]
    }
   ],
   "source": [
    "num_more_extreme = sum(i >= true_r  for i in r_values)\n",
    "p_value = num_more_extreme/data_size\n",
    "p_value = num_more_extreme/(permutations-1)\n",
    "print(p_value)\n",
    "\n",
    "#the p-value is 0.006 which is significant  "
   ]
  },
  {
   "cell_type": "code",
   "execution_count": 143,
   "id": "dcaf3ccd",
   "metadata": {},
   "outputs": [
    {
     "data": {
      "image/png": "[encoded data removed]",
      "text/plain": [
       "<Figure size 432x288 with 1 Axes>"
      ]
     },
     "metadata": {
      "needs_background": "light"
     },
     "output_type": "display_data"
    },
    {
     "name": "stdout",
     "output_type": "stream",
     "text": [
      "0.007608864352767197\n"
     ]
    }
   ],
   "source": [
    "#part c: chi squared distribution \n",
    "df = 1\n",
    "\n",
    "x = np.linspace(0, 10, 10000) \n",
    "\n",
    "chi2_pdf = stats.chi2.pdf(x, df)\n",
    "plt.plot(x, chi2_pdf, label='Chi-Squared PDF (1 df)', color='blue')\n",
    "plt.axvline(true_r, color='red', linestyle='dashed')\n",
    "\n",
    "# Add labels and a legend\n",
    "plt.xlabel('Chi-Squared Value')\n",
    "plt.ylabel('Probability Density')\n",
    "plt.legend()\n",
    "\n",
    "# Calculate the p-value using the chi-squared cumulative distribution function (CDF)\n",
    "p_value = 1 - stats.chi2.cdf(true_r, df)\n",
    "\n",
    "# Show the plot\n",
    "plt.show()\n",
    "print(p_value)\n",
    "\n",
    "#the p value is 0.0076 which is significant "
   ]
  },
  {
   "cell_type": "code",
   "execution_count": 151,
   "id": "cd3d4314",
   "metadata": {},
   "outputs": [
    {
     "name": "stdout",
     "output_type": "stream",
     "text": [
      "[0.007608864352767197, 0.5529325726684817, 0.080418593799788, 0.03076361349340162, 0.004045787087248787, 0.007608864352767197, 0.556905117144552, 0.00893560663839088, 0.005661036886680071, 0.0492481058001466]\n"
     ]
    }
   ],
   "source": [
    "#part d\n",
    "\n",
    "#control FWER at 0.05 \n",
    "\n",
    "#step 1: compute test statistics for all the SNP's. \n",
    "\n",
    "test_statistics = []\n",
    "\n",
    "#this could be generalized\n",
    "for i in range(10):\n",
    "    snp_data_temp = genotype_data[:,i]\n",
    "    rtemp, ptemp = scipy.stats.pearsonr(snp_data_temp, phenotype_data)\n",
    "    true_r_temp = data_size*rtemp**2\n",
    "    test_statistics.append(true_r_temp)\n",
    "\n",
    "p_values = []\n",
    "for i in range(10):\n",
    "    p_values.append(1 - stats.chi2.cdf(test_statistics[i], df))\n",
    "\n",
    "print(p_values)\n"
   ]
  },
  {
   "cell_type": "code",
   "execution_count": 153,
   "id": "9815cf9a",
   "metadata": {},
   "outputs": [
    {
     "name": "stdout",
     "output_type": "stream",
     "text": [
      "0.005\n"
     ]
    }
   ],
   "source": [
    "#proposition: reject null hypothesis that snp i is not associated with phenotype if pi < t, need to pick t. \n",
    "\n",
    "corrected_alpha = 0.05/10\n",
    "print(corrected_alpha)\n",
    "#this will be the new cutoff. "
   ]
  },
  {
   "cell_type": "code",
   "execution_count": 157,
   "id": "c169fa0c",
   "metadata": {},
   "outputs": [
    {
     "data": {
      "text/plain": [
       "[False, False, False, False, True, False, False, False, False, False]"
      ]
     },
     "execution_count": 157,
     "metadata": {},
     "output_type": "execute_result"
    }
   ],
   "source": [
    "[p <= corrected_alpha for p in p_values]\n",
    "\n",
    "#with the new corrected alpha cutoff, only the 5th SNP is significant \n"
   ]
  },
  {
   "cell_type": "code",
   "execution_count": null,
   "id": "4e72451c",
   "metadata": {},
   "outputs": [],
   "source": []
  }
 ],
 "metadata": {
  "kernelspec": {
   "display_name": "Python 3 (ipykernel)",
   "language": "python",
   "name": "python3"
  },
  "language_info": {
   "codemirror_mode": {
    "name": "ipython",
    "version": 3
   },
   "file_extension": ".py",
   "mimetype": "text/x-python",
   "name": "python",
   "nbconvert_exporter": "python",
   "pygments_lexer": "ipython3",
   "version": "3.10.5"
  }
 },
 "nbformat": 4,
 "nbformat_minor": 5
}

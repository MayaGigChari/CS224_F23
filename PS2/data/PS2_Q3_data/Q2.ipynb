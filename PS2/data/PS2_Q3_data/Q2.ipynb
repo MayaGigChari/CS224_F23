{
 "cells": [
  {
   "cell_type": "code",
   "execution_count": 171,
   "id": "eede9655",
   "metadata": {},
   "outputs": [],
   "source": [
    "#a. to control the FWER at 0.05 we need to divide by the number of tests = 382 tests\n",
    "\n",
    "\n",
    "rej_thresh = 0.05/382\n",
    "\n",
    "#we control at. 0.00013\n",
    "\n",
    "\n",
    "import numpy as np\n",
    "import scipy\n",
    "import matplotlib.pyplot as plt\n",
    "import scipy.stats as stats\n",
    "import pandas as pd\n",
    "\n",
    "import statsmodels.api as sm\n",
    "\n",
    "import statsmodels.formula.api as smf\n",
    "\n",
    "import seaborn as sns\n",
    "import matplotlib.pyplot as plt"
   ]
  },
  {
   "cell_type": "code",
   "execution_count": 341,
   "id": "c061dbe2",
   "metadata": {},
   "outputs": [
    {
     "name": "stdout",
     "output_type": "stream",
     "text": [
      "     const    0    1    2    3    4    5    6    7    8  ...  372  373  374  \\\n",
      "0      1.0  0.0  0.0  2.0  2.0  0.0  1.0  0.0  0.0  1.0  ...  1.0  0.0  1.0   \n",
      "1      1.0  0.0  0.0  1.0  2.0  1.0  2.0  1.0  0.0  1.0  ...  0.0  1.0  1.0   \n",
      "2      1.0  0.0  1.0  1.0  2.0  1.0  2.0  0.0  0.0  0.0  ...  2.0  1.0  0.0   \n",
      "3      1.0  0.0  0.0  2.0  2.0  0.0  2.0  0.0  0.0  1.0  ...  2.0  2.0  2.0   \n",
      "4      1.0  0.0  0.0  1.0  2.0  1.0  2.0  0.0  0.0  1.0  ...  2.0  1.0  2.0   \n",
      "..     ...  ...  ...  ...  ...  ...  ...  ...  ...  ...  ...  ...  ...  ...   \n",
      "495    1.0  0.0  0.0  2.0  1.0  1.0  2.0  0.0  0.0  2.0  ...  1.0  1.0  0.0   \n",
      "496    1.0  1.0  0.0  1.0  2.0  0.0  1.0  0.0  1.0  1.0  ...  2.0  1.0  2.0   \n",
      "497    1.0  0.0  0.0  1.0  2.0  0.0  2.0  0.0  0.0  1.0  ...  2.0  2.0  2.0   \n",
      "498    1.0  1.0  0.0  2.0  2.0  1.0  1.0  0.0  0.0  2.0  ...  2.0  1.0  2.0   \n",
      "499    1.0  1.0  1.0  2.0  1.0  2.0  2.0  0.0  0.0  2.0  ...  1.0  2.0  2.0   \n",
      "\n",
      "     375  376  377  378  379  380  381  \n",
      "0    0.0  1.0  1.0  0.0  1.0  1.0  1.0  \n",
      "1    0.0  0.0  1.0  0.0  0.0  0.0  1.0  \n",
      "2    0.0  1.0  0.0  0.0  0.0  0.0  2.0  \n",
      "3    1.0  1.0  1.0  0.0  0.0  0.0  2.0  \n",
      "4    0.0  2.0  1.0  0.0  0.0  0.0  0.0  \n",
      "..   ...  ...  ...  ...  ...  ...  ...  \n",
      "495  0.0  0.0  2.0  0.0  0.0  0.0  1.0  \n",
      "496  0.0  0.0  1.0  0.0  0.0  0.0  1.0  \n",
      "497  0.0  0.0  0.0  0.0  0.0  0.0  1.0  \n",
      "498  0.0  1.0  1.0  0.0  0.0  0.0  1.0  \n",
      "499  0.0  0.0  2.0  1.0  0.0  0.0  2.0  \n",
      "\n",
      "[500 rows x 383 columns]\n",
      "[]\n",
      "[257]\n",
      "[118]\n",
      "[42]\n"
     ]
    }
   ],
   "source": [
    "#b\n",
    "#REDO. \n",
    "#need to run linear regression at all SNP's\n",
    "\n",
    "#perform association analysis: linear regression phenotype against genotype \n",
    "\n",
    "#do we use the intercept thing or no?\n",
    "\n",
    "#what does adding the constant do?\n",
    "\n",
    "genotype_data =  np.loadtxt(\"gwas.geno\",delimiter = \" \")\n",
    "phenotype_data = np.loadtxt(\"gwas.pheno\", delimiter = \" \")\n",
    "\n",
    "genotype_df = pd.DataFrame(genotype_data)\n",
    "\n",
    "phenotype_df = pd.DataFrame(phenotype_data)\n",
    "\n",
    "\n",
    "print(sm.add_constant(genotype_df))\n",
    "\n",
    "phenotype_1 =  phenotype_df[0]\n",
    "phenotype_2 = phenotype_df[1]\n",
    "phenotype_3 = phenotype_df[2]\n",
    "phenotype_4 = phenotype_df[3]\n",
    "\n",
    "\n",
    "\n",
    "model1 = sm.OLS(phenotype_1, sm.add_constant(genotype_df))\n",
    "results1 = model1.fit()\n",
    "\n",
    "model2 = sm.OLS(phenotype_2, sm.add_constant(genotype_df))\n",
    "results2 = model2.fit()\n",
    "\n",
    "model3 = sm.OLS(phenotype_3, sm.add_constant(genotype_df))\n",
    "results3 = model3.fit()\n",
    "\n",
    "model4 = sm.OLS(phenotype_4, sm.add_constant(genotype_df))\n",
    "results4 = model4.fit()\n",
    "\n",
    "\n",
    "phen_1_pvals = results1.pvalues[1:]\n",
    "phen_2_pvals = results2.pvalues[1:]\n",
    "phen_3_pvals = results3.pvalues[1:]\n",
    "phen_4_pvals = results4.pvalues[1:]\n",
    "\n",
    "\n",
    "\n",
    "print(np.where(phen_1_pvals<=rej_thresh)[0])\n",
    "print(np.where(phen_2_pvals<=rej_thresh)[0])\n",
    "print(np.where(phen_3_pvals<=rej_thresh)[0])\n",
    "print(np.where(phen_4_pvals<=rej_thresh)[0])\n",
    "\n",
    "#the np.where function returns the actual index of the p values that are significant, but since there's a \n",
    "#constant value here all the indices are shifted up 1. \n",
    "\n",
    "\n",
    "\n",
    "#ask about positionality \n",
    "\n",
    "#snp 258 is associated with phenotype 2\n",
    "#snp 119 is associated with phenotype 3\n",
    "#snp 43 is associated iwth phenotype 4\n",
    "\n",
    "#print(phen_2_pvals.get(key = 257))\n",
    "#print(phen_3_pvals.get(key = 118))\n",
    "#print(phen_4_pvals.get(key = 42))\n",
    "\n",
    "\n",
    "\n",
    "#this produces the wrong model. \n",
    "\n",
    "    "
   ]
  },
  {
   "cell_type": "code",
   "execution_count": 351,
   "id": "e85d2184",
   "metadata": {},
   "outputs": [],
   "source": [
    "#correct model:\n",
    "#print(sm.add_constant(genotype_data[1]))\n",
    "#p_vals_phen1 = []\n",
    "#for i in range(len(genotype_df.columns)):\n",
    "#    model_temp = sm.OLS(phenotype_1, sm.add_constant(genotype_df[i]))\n",
    "#    results_temp = model1_temp.fit()\n",
    "#    p_vals.append(results_temp.pvalues[1])\n",
    "\n",
    "pvals_phen1 = []\n",
    "phenotype = phenotype_data[:, 0]\n",
    "for snp_index in range(genotype_data.shape[1]):\n",
    "    genotype = genotype_data[:, snp_index]\n",
    "    X = sm.add_constant(genotype)\n",
    "    model = sm.OLS(phenotype, X)\n",
    "    results = model.fit()\n",
    "    pvals_phen1.append(results.pvalues[1])\n",
    "\n",
    "\n",
    "pvals_phen2 = []\n",
    "phenotype = phenotype_data[:, 1]\n",
    "for snp_index in range(genotype_data.shape[1]):\n",
    "    genotype = genotype_data[:, snp_index]\n",
    "    X = sm.add_constant(genotype)\n",
    "    model = sm.OLS(phenotype, X)\n",
    "    results = model.fit()\n",
    "    pvals_phen2.append(results.pvalues[1])\n",
    "\n",
    "\n",
    "\n",
    "\n",
    "pvals_phen3 = []\n",
    "phenotype = phenotype_data[:, 2]\n",
    "for snp_index in range(genotype_data.shape[1]):\n",
    "    genotype = genotype_data[:, snp_index]\n",
    "    X = sm.add_constant(genotype)\n",
    "    model = sm.OLS(phenotype, X)\n",
    "    results = model.fit()\n",
    "    pvals_phen3.append(results.pvalues[1])\n",
    "\n",
    "\n",
    "\n",
    "\n",
    "pvals_phen4 = []\n",
    "phenotype = phenotype_data[:, 3]\n",
    "for snp_index in range(genotype_data.shape[1]):\n",
    "    genotype = genotype_data[:, snp_index]\n",
    "    X = sm.add_constant(genotype)\n",
    "    model = sm.OLS(phenotype, X)\n",
    "    results = model.fit()\n",
    "    pvals_phen4.append(results.pvalues[1])\n",
    "\n"
   ]
  },
  {
   "cell_type": "code",
   "execution_count": 356,
   "id": "aa80fbf9",
   "metadata": {},
   "outputs": [
    {
     "data": {
      "image/png": "[encoded data removed]",
      "text/plain": [
       "<Figure size 432x288 with 1 Axes>"
      ]
     },
     "metadata": {
      "needs_background": "light"
     },
     "output_type": "display_data"
    }
   ],
   "source": [
    "plt.hist(pvals_phen1, bins = 15)\n",
    "plt.title('Phenotype 1 p-values')  # Add a title\n",
    "plt.xlabel('p-value')\n",
    "plt.ylabel('Frequency')\n",
    "plt.show()"
   ]
  },
  {
   "cell_type": "code",
   "execution_count": 357,
   "id": "f55b4df1",
   "metadata": {},
   "outputs": [
    {
     "data": {
      "image/png": "[encoded data removed]",
      "text/plain": [
       "<Figure size 432x288 with 1 Axes>"
      ]
     },
     "metadata": {
      "needs_background": "light"
     },
     "output_type": "display_data"
    }
   ],
   "source": [
    "plt.hist(pvals_phen2, bins = 15)\n",
    "plt.title('Phenotype 2 p-values')  # Add a title\n",
    "plt.xlabel('p-value')\n",
    "plt.ylabel('Frequency')\n",
    "plt.show()"
   ]
  },
  {
   "cell_type": "code",
   "execution_count": 358,
   "id": "a605cfb9",
   "metadata": {},
   "outputs": [
    {
     "data": {
      "image/png": "[encoded data removed]",
      "text/plain": [
       "<Figure size 432x288 with 1 Axes>"
      ]
     },
     "metadata": {
      "needs_background": "light"
     },
     "output_type": "display_data"
    }
   ],
   "source": [
    "plt.hist(pvals_phen3, bins = 15)\n",
    "plt.title('Phenotype 3 p-values')  # Add a title\n",
    "plt.xlabel('p-value')\n",
    "plt.ylabel('Frequency')\n",
    "plt.show()"
   ]
  },
  {
   "cell_type": "code",
   "execution_count": 359,
   "id": "b5892beb",
   "metadata": {},
   "outputs": [
    {
     "data": {
      "image/png": "[encoded data removed]",
      "text/plain": [
       "<Figure size 432x288 with 1 Axes>"
      ]
     },
     "metadata": {
      "needs_background": "light"
     },
     "output_type": "display_data"
    }
   ],
   "source": [
    "plt.hist(pvals_phen4, bins = 15)\n",
    "plt.title('Phenotype 4 p-values')  # Add a title\n",
    "plt.xlabel('p-value')\n",
    "plt.ylabel('Frequency')\n",
    "plt.show()"
   ]
  },
  {
   "cell_type": "code",
   "execution_count": 290,
   "id": "91659672",
   "metadata": {},
   "outputs": [
    {
     "data": {
      "image/png": "[encoded data removed]",
      "text/plain": [
       "<Figure size 432x288 with 1 Axes>"
      ]
     },
     "metadata": {
      "needs_background": "light"
     },
     "output_type": "display_data"
    }
   ],
   "source": [
    "#c\n",
    "plt.hist(phen_1_pvals, bins=10)\n",
    "plt.title('Phenotype 1 p-values')  # Add a title\n",
    "plt.xlabel('p-value')\n",
    "plt.ylabel('Frequency')\n",
    "plt.show()"
   ]
  },
  {
   "cell_type": "code",
   "execution_count": null,
   "id": "9dd46c8a",
   "metadata": {},
   "outputs": [],
   "source": []
  },
  {
   "cell_type": "code",
   "execution_count": 291,
   "id": "3c88122e",
   "metadata": {},
   "outputs": [
    {
     "data": {
      "image/png": "[encoded data removed]",
      "text/plain": [
       "<Figure size 432x288 with 1 Axes>"
      ]
     },
     "metadata": {
      "needs_background": "light"
     },
     "output_type": "display_data"
    }
   ],
   "source": [
    "plt.hist(phen_2_pvals, bins = 10)\n",
    "plt.title('Phenotype 2 p-values')  # Add a title\n",
    "plt.xlabel('p-value')\n",
    "plt.ylabel('Frequency')\n",
    "plt.show()"
   ]
  },
  {
   "cell_type": "code",
   "execution_count": 292,
   "id": "a6694359",
   "metadata": {},
   "outputs": [
    {
     "data": {
      "image/png": "[encoded data removed]",
      "text/plain": [
       "<Figure size 432x288 with 1 Axes>"
      ]
     },
     "metadata": {
      "needs_background": "light"
     },
     "output_type": "display_data"
    }
   ],
   "source": [
    "plt.hist(phen_3_vals_plot, bins = 10)\n",
    "plt.title('Phenotype 3 p-values')  # Add a title\n",
    "plt.xlabel('p-value')\n",
    "plt.ylabel('Frequency')\n",
    "plt.show()"
   ]
  },
  {
   "cell_type": "code",
   "execution_count": 293,
   "id": "e2a8c8a5",
   "metadata": {},
   "outputs": [
    {
     "data": {
      "image/png": "[encoded data removed]",
      "text/plain": [
       "<Figure size 432x288 with 1 Axes>"
      ]
     },
     "metadata": {
      "needs_background": "light"
     },
     "output_type": "display_data"
    }
   ],
   "source": [
    "plt.hist(phen_4_pvals, bins = 10)\n",
    "plt.title('Phenotype 4 p-values')  # Add a title\n",
    "plt.xlabel('p-value')\n",
    "plt.ylabel('Frequency')\n",
    "plt.show()"
   ]
  },
  {
   "cell_type": "code",
   "execution_count": 295,
   "id": "e699a989",
   "metadata": {},
   "outputs": [
    {
     "name": "stdout",
     "output_type": "stream",
     "text": [
      "Index(['const',       0,       1,       2,       3,       4,       5,       6,\n",
      "             7,       8,\n",
      "       ...\n",
      "           372,     373,     374,     375,     376,     377,     378,     379,\n",
      "           380,     381],\n",
      "      dtype='object', length=383)\n",
      "257    1.214078e-118\n",
      "dtype: float64\n"
     ]
    },
    {
     "data": {
      "image/png": "[encoded data removed]",
      "text/plain": [
       "<Figure size 432x288 with 1 Axes>"
      ]
     },
     "metadata": {
      "needs_background": "light"
     },
     "output_type": "display_data"
    }
   ],
   "source": [
    "#d\n",
    "\n",
    "#do this only for the SNP's of interest.\n",
    "\n",
    "#An additional check is to plot the relationship between\n",
    "#phenotype (on y-axis) vs genotype (on x-axis) for the SNPs \n",
    "#that are discovered to be associated. Since the genotype takes\n",
    "#values in {0,1,2}, we can use either use a boxplot \n",
    "#(boxplot in R or Python) or add random noise to the \n",
    "#genotype to aid visualization. Plot this relationship for\n",
    "#each SNP-phenotype association. Which of the \n",
    "#associations might be a result of model violation? \n",
    "#In each of these cases, what assumption do you think is violated ?\n",
    "\n",
    "#snp 258 is associated with phenotype 2\n",
    "#snp 119 is associated with phenotype 3\n",
    "#snp 43 is associated iwth phenotype 4\n",
    "\n",
    "#snps can take values of 0,1 or 2\n",
    "\n",
    "genotype_with_constant = sm.add_constant(genotype_df)\n",
    "\n",
    "check1 = genotype_with_constant[257]\n",
    "check2 = genotype_with_constant[118]\n",
    "check3 = genotype_with_constant[42]\n",
    "\n",
    "#still need to add 1 when we discuss which ones we reject. \n",
    "\n",
    "print(genotype_with_constant.columns)\n",
    "\n",
    "model_check = sm.OLS(phenotype_2, genotype_with_constant[257])\n",
    "results_check = model_check.fit()\n",
    "print(results_check.pvalues)\n",
    "#checking to make sure the fit is right. \n",
    "\n",
    "sns.boxplot(x = check1, y = phenotype_2)\n",
    "plt.title('SNP 258 barplot')  # Add a title\n",
    "plt.show()"
   ]
  },
  {
   "cell_type": "code",
   "execution_count": 296,
   "id": "a4a9e271",
   "metadata": {},
   "outputs": [
    {
     "data": {
      "text/plain": [
       "Text(0.5, 1.0, 'SNP 119 barplot')"
      ]
     },
     "execution_count": 296,
     "metadata": {},
     "output_type": "execute_result"
    },
    {
     "data": {
      "image/png": "[encoded data removed]",
      "text/plain": [
       "<Figure size 432x288 with 1 Axes>"
      ]
     },
     "metadata": {
      "needs_background": "light"
     },
     "output_type": "display_data"
    }
   ],
   "source": [
    "sns.boxplot(x = check2, y = phenotype_3)\n",
    "plt.title('SNP 119 barplot')  # Add a title\n"
   ]
  },
  {
   "cell_type": "code",
   "execution_count": 297,
   "id": "f0b9596d",
   "metadata": {},
   "outputs": [
    {
     "data": {
      "text/plain": [
       "Text(0.5, 1.0, 'SNP 43 barplot')"
      ]
     },
     "execution_count": 297,
     "metadata": {},
     "output_type": "execute_result"
    },
    {
     "data": {
      "image/png": "[encoded data removed]",
      "text/plain": [
       "<Figure size 432x288 with 1 Axes>"
      ]
     },
     "metadata": {
      "needs_background": "light"
     },
     "output_type": "display_data"
    }
   ],
   "source": [
    "sns.boxplot(x = check3, y = phenotype_4)\n",
    "plt.title('SNP 43 barplot')\n"
   ]
  },
  {
   "cell_type": "code",
   "execution_count": null,
   "id": "fe2239ac",
   "metadata": {},
   "outputs": [],
   "source": [
    "#4: ridge regression ''"
   ]
  },
  {
   "cell_type": "code",
   "execution_count": null,
   "id": "8b876792",
   "metadata": {},
   "outputs": [],
   "source": []
  }
 ],
 "metadata": {
  "kernelspec": {
   "display_name": "Python 3 (ipykernel)",
   "language": "python",
   "name": "python3"
  },
  "language_info": {
   "codemirror_mode": {
    "name": "ipython",
    "version": 3
   },
   "file_extension": ".py",
   "mimetype": "text/x-python",
   "name": "python",
   "nbconvert_exporter": "python",
   "pygments_lexer": "ipython3",
   "version": "3.10.5"
  }
 },
 "nbformat": 4,
 "nbformat_minor": 5
}

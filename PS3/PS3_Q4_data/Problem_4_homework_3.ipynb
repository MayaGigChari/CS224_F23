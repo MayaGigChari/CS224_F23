{
 "cells": [
  {
   "cell_type": "code",
   "execution_count": 10,
   "id": "be492bc3",
   "metadata": {},
   "outputs": [],
   "source": [
    "\n",
    "import numpy as np\n",
    "import scipy\n",
    "import matplotlib.pyplot as plt\n",
    "import scipy.stats as stats\n",
    "import pandas as pd\n",
    "\n",
    "# Read the TSV file\n",
    "file_path = 'q4.data'\n",
    "data = pd.read_csv(file_path, sep='\\t')\n",
    "\n",
    "# Select columns starting with 'rs'\n",
    "snps = data.filter(regex='^rs')\n",
    "\n"
   ]
  },
  {
   "cell_type": "code",
   "execution_count": 11,
   "id": "ad21d39f",
   "metadata": {},
   "outputs": [
    {
     "name": "stdout",
     "output_type": "stream",
     "text": [
      "     individual population  rs189703925_T  rs11240779_A  rs186725148_G  \\\n",
      "0       HG00096        EUR              0             1              0   \n",
      "1       HG00097        EUR              0             1              0   \n",
      "2       HG00099        EUR              0             1              0   \n",
      "3       HG00100        EUR              1             2              0   \n",
      "4       HG00101        EUR              0             2              0   \n",
      "...         ...        ...            ...           ...            ...   \n",
      "1087    NA20816        EUR              0             2              0   \n",
      "1088    NA20818        EUR              0             2              0   \n",
      "1089    NA20819        EUR              0             2              0   \n",
      "1090    NA20826        EUR              0             2              0   \n",
      "1091    NA20828        EUR              0             1              0   \n",
      "\n",
      "      rs113978591_G  rs1891908_T  rs61766322_G  rs77315208_C  rs187435200_A  \\\n",
      "0                 0            0             2             1              0   \n",
      "1                 0            0             1             0              0   \n",
      "2                 0            0             2             0              0   \n",
      "3                 0            0             0             0              1   \n",
      "4                 0            0             1             0              0   \n",
      "...             ...          ...           ...           ...            ...   \n",
      "1087              0            1             0             0              0   \n",
      "1088              0            0             1             0              0   \n",
      "1089              0            0             1             0              0   \n",
      "1090              0            0             2             0              0   \n",
      "1091              0            0             0             0              0   \n",
      "\n",
      "      ...  rs181752170_C  rs199871809_T  rs192498220_T  rs181048877_T  \\\n",
      "0     ...              0              0              0              0   \n",
      "1     ...              0              1              0              0   \n",
      "2     ...              0              0              0              0   \n",
      "3     ...              0              1              0              0   \n",
      "4     ...              0              0              0              0   \n",
      "...   ...            ...            ...            ...            ...   \n",
      "1087  ...              0              0              0              0   \n",
      "1088  ...              0              0              0              0   \n",
      "1089  ...              0              0              0              0   \n",
      "1090  ...              0              0              0              0   \n",
      "1091  ...              0              0              0              0   \n",
      "\n",
      "      rs185789787_A  rs192583248_C  rs184861241_A  rs143849140_A  \\\n",
      "0                 0              0              0              0   \n",
      "1                 0              0              0              0   \n",
      "2                 0              0              0              0   \n",
      "3                 0              0              0              0   \n",
      "4                 0              0              0              0   \n",
      "...             ...            ...            ...            ...   \n",
      "1087              0              0              0              0   \n",
      "1088              0              0              0              0   \n",
      "1089              0              0              0              0   \n",
      "1090              0              0              0              0   \n",
      "1091              0              0              0              0   \n",
      "\n",
      "      rs140611932_C  rs181833046_T  \n",
      "0                 0              1  \n",
      "1                 0              0  \n",
      "2                 0              0  \n",
      "3                 0              0  \n",
      "4                 0              0  \n",
      "...             ...            ...  \n",
      "1087              0              0  \n",
      "1088              0              0  \n",
      "1089              0              0  \n",
      "1090              0              1  \n",
      "1091              0              0  \n",
      "\n",
      "[1092 rows x 13239 columns]\n"
     ]
    }
   ],
   "source": [
    "print(data)"
   ]
  },
  {
   "cell_type": "code",
   "execution_count": 29,
   "id": "51bdeff3",
   "metadata": {},
   "outputs": [
    {
     "name": "stdout",
     "output_type": "stream",
     "text": [
      "[220.44349798 184.4141364 ]\n"
     ]
    }
   ],
   "source": [
    "from sklearn.decomposition import PCA\n",
    "pca = PCA(n_components=2)\n",
    "data_pca = pca.fit_transform(snps)\n",
    "\n",
    "explained_variance = pca.explained_variance_\n",
    "print(explained_variance)"
   ]
  },
  {
   "cell_type": "code",
   "execution_count": 4,
   "id": "03bf7282",
   "metadata": {},
   "outputs": [],
   "source": [
    "groups = data['population']  # Replace 'groups' with the actual column name\n"
   ]
  },
  {
   "cell_type": "code",
   "execution_count": 76,
   "id": "a7fcb4d6",
   "metadata": {},
   "outputs": [
    {
     "name": "stdout",
     "output_type": "stream",
     "text": [
      "[0.04789423 0.04006638]\n"
     ]
    }
   ],
   "source": [
    "\n"
   ]
  },
  {
   "cell_type": "code",
   "execution_count": 30,
   "id": "0268c183",
   "metadata": {},
   "outputs": [
    {
     "name": "stdout",
     "output_type": "stream",
     "text": [
      "[220.44349798 184.4141364 ]\n"
     ]
    },
    {
     "data": {
      "image/png": "[encoded data removed]",
      "text/plain": [
       "<Figure size 576x432 with 1 Axes>"
      ]
     },
     "metadata": {
      "needs_background": "light"
     },
     "output_type": "display_data"
    }
   ],
   "source": [
    "import matplotlib.pyplot as plt\n",
    "from sklearn.decomposition import PCA\n",
    "\n",
    "np.random.seed(0)\n",
    "# Extract the population labels from the original dataset\n",
    "population_labels = data['population']  # Replace 'population' with the actual column name\n",
    "\n",
    "# Instantiate PCA with 2 components\n",
    "pca = PCA(n_components=2)\n",
    "\n",
    "# Fit and transform the data\n",
    "transformed_data = pca.fit_transform(snps)\n",
    "\n",
    "explained_variance = pca.explained_variance_\n",
    "\n",
    "print(explained_variance)\n",
    "\n",
    "\n",
    "#somehow asign colors. \n",
    "plt.figure(figsize=(8, 6))\n",
    "unique_populations = set(population_labels)\n",
    "colors = ['blue', 'green', 'red', \"purple\"]  # Define colors for different populations\n",
    "\n",
    "for i, pop_label in enumerate(unique_populations):\n",
    "    mask = (population_labels == pop_label)\n",
    "    plt.scatter(transformed_data[mask, 0], transformed_data[mask, 1], label=pop_label, color=colors[i])\n",
    "\n",
    "plt.title('PCA Visualization with Population Coloring')\n",
    "plt.xlabel('Principal Component 1')\n",
    "plt.ylabel('Principal Component 2')\n",
    "plt.legend()\n",
    "plt.grid(True)\n",
    "\n",
    "plt.savefig('pca_plot_high_res.png', dpi=300)  # Change file format if needed (e.g., '.pdf', '.svg')\n",
    "\n",
    "plt.show()"
   ]
  },
  {
   "cell_type": "code",
   "execution_count": 14,
   "id": "7ed3df4a",
   "metadata": {},
   "outputs": [],
   "source": [
    "#part c: kmeans clustering \n",
    "\n",
    "from sklearn.cluster import KMeans\n",
    "\n",
    "kmeans = KMeans(n_clusters=4, n_init = 5)\n",
    "kmeans.fit(snps)\n",
    "y_kmeans = kmeans.predict(snps)\n",
    "\n"
   ]
  },
  {
   "cell_type": "code",
   "execution_count": 15,
   "id": "cbbb1f7e",
   "metadata": {},
   "outputs": [
    {
     "name": "stdout",
     "output_type": "stream",
     "text": [
      "[2, 1, 3, 0]\n"
     ]
    },
    {
     "data": {
      "image/png": "[encoded data removed]",
      "text/plain": [
       "<Figure size 576x432 with 1 Axes>"
      ]
     },
     "metadata": {
      "needs_background": "light"
     },
     "output_type": "display_data"
    }
   ],
   "source": [
    "from sklearn.cluster import KMeans\n",
    "from collections import Counter\n",
    "import numpy as np\n",
    "import matplotlib.pyplot as plt\n",
    "\n",
    "\n",
    "# Get the counts of points in each cluster\n",
    "cluster_counts = Counter(y_kmeans)\n",
    "\n",
    "# Sort the clusters based on their counts\n",
    "sorted_clusters = sorted(cluster_counts, key=cluster_counts.get, reverse = True)\n",
    "\n",
    "print(sorted_clusters)\n",
    "# Create a mapping to rearrange the cluster labels\n",
    "new_labels = np.zeros_like(y_kmeans)\n",
    "for i, cluster_label in enumerate(sorted_clusters):\n",
    "    new_labels[y_kmeans == cluster_label] = i + 1  # Renaming clusters starting from 1\n",
    "\n",
    "# Use the new cluster labels\n",
    "y_kmeans_renamed = new_labels\n",
    "\n",
    "plt.figure(figsize=(8, 6))\n",
    "\n",
    "unique_clusters = set(y_kmeans_renamed)\n",
    "colors = ['blue', 'green', 'red', \"purple\"]  # Define colors for different populations\n",
    "\n",
    "for i, pop_label in enumerate(unique_clusters):\n",
    "    mask = (y_kmeans_renamed == pop_label)\n",
    "    plt.scatter(transformed_data[mask, 0], transformed_data[mask, 1], label=f'Cluster {pop_label}', color=colors[i])\n",
    "\n",
    "plt.title('PCA Visualization with Kmeans Coloring (Clusters Renamed)')\n",
    "plt.xlabel('Principal Component 1')\n",
    "plt.ylabel('Principal Component 2')\n",
    "plt.legend()\n",
    "plt.grid(True)\n",
    "\n",
    "plt.savefig('pca_kmeans_renamed_clusters.png', dpi=300)  # Save the plot\n",
    "plt.show()\n",
    "\n"
   ]
  },
  {
   "cell_type": "code",
   "execution_count": 16,
   "id": "e82673d1",
   "metadata": {},
   "outputs": [
    {
     "name": "stdout",
     "output_type": "stream",
     "text": [
      "Cluster Counts:\n",
      "Cluster 2: 413 points\n",
      "Cluster 1: 286 points\n",
      "Cluster 0: 150 points\n",
      "Cluster 3: 243 points\n"
     ]
    }
   ],
   "source": [
    "from collections import Counter\n",
    "\n",
    "cluster_counts = Counter(y_kmeans)\n",
    "\n",
    "print(\"Cluster Counts:\")\n",
    "for cluster, count in cluster_counts.items():\n",
    "    print(f\"Cluster {cluster}: {count} points\")\n"
   ]
  },
  {
   "cell_type": "code",
   "execution_count": 17,
   "id": "9acb819b",
   "metadata": {},
   "outputs": [
    {
     "ename": "SyntaxError",
     "evalue": "invalid syntax (2066662116.py, line 1)",
     "output_type": "error",
     "traceback": [
      "\u001b[0;36m  Input \u001b[0;32mIn [17]\u001b[0;36m\u001b[0m\n\u001b[0;31m    For the fractional counts, need to count the number of points that are correctly assigned to each cluster\u001b[0m\n\u001b[0m        ^\u001b[0m\n\u001b[0;31mSyntaxError\u001b[0m\u001b[0;31m:\u001b[0m invalid syntax\n"
     ]
    }
   ],
   "source": [
    "For the fractional counts, need to count the number of points that are correctly assigned to each cluster "
   ]
  },
  {
   "cell_type": "code",
   "execution_count": 18,
   "id": "2da31a69",
   "metadata": {},
   "outputs": [],
   "source": [
    "#need to calculate the fraction of cluster assignments that agree with true population labels \n",
    "\n",
    "from sklearn.metrics import adjusted_rand_score\n",
    "\n",
    "true_labels = {\n",
    "    'AMR' : 0,\n",
    "    'ASN' : 1,\n",
    "    'AFR' : 3,\n",
    "    'EUR' : 2\n",
    "}\n",
    "mapped_labels = []\n",
    "\n",
    "for label in population_labels:\n",
    "    if label in true_labels:#\n",
    "        mapped_labels.append(true_labels[label])\n",
    "    else:\n",
    "        mapped_labels.append(-1)  # Or any placeholder for labels not found in true_labels#\n",
    "\n",
    "#ari_score = adjusted_rand_score(mapped_labels, y_kmeans)\n",
    "\n",
    "\n",
    "#def proportion_matching(arr1, arr2):\n",
    "#    if len(arr1) != len(arr2):\n",
    "#        return None  # Return None if arrays are of different lengths\n",
    "\n",
    "#    num_matches = sum(1 for a, b in zip(arr1, arr2) if a == b)\n",
    "#    total_elements = len(arr1)\n",
    "\n",
    "#    return num_matches / total_elements if total_elements != 0 else 0  # Calculate proportion\n",
    "\n",
    "#matching_proportion = proportion_matching(mapped_labels, y_kmeans)\n",
    "mapped_labels = np.array(mapped_labels)\n",
    "#mapped labels ae the true labels, y_kmeans ae the predictions. "
   ]
  },
  {
   "cell_type": "code",
   "execution_count": 59,
   "id": "b40ede63",
   "metadata": {},
   "outputs": [
    {
     "name": "stdout",
     "output_type": "stream",
     "text": [
      "0.8066298342541437\n"
     ]
    }
   ],
   "source": [
    "cluster_0 = mapped_labels == 0\n",
    "cluster_0_kmeans = y_kmeans == 0\n",
    "same_indices_count = np.count_nonzero(cluster_0 & cluster_0_kmeans)\n",
    "print(same_indices_count/sum(cluster_0)) \n",
    "\n",
    "#correct = total correctly assigned to cluster 1/total belonging to cluster 1. "
   ]
  },
  {
   "cell_type": "code",
   "execution_count": 60,
   "id": "f911a19f",
   "metadata": {},
   "outputs": [
    {
     "name": "stdout",
     "output_type": "stream",
     "text": [
      "1.0\n"
     ]
    }
   ],
   "source": [
    "cluster_1 = mapped_labels == 1\n",
    "cluster_2_kmeans = y_kmeans == 1\n",
    "same_indices_count_1 = np.count_nonzero(cluster_1 & cluster_1_kmeans)\n",
    "print(same_indices_count_1/sum(cluster_1)) "
   ]
  },
  {
   "cell_type": "code",
   "execution_count": 61,
   "id": "cf98ebce",
   "metadata": {},
   "outputs": [
    {
     "name": "stdout",
     "output_type": "stream",
     "text": [
      "1.0\n"
     ]
    }
   ],
   "source": [
    "cluster_2 = mapped_labels == 2\n",
    "cluster_2_kmeans = y_kmeans == 2\n",
    "same_indices_count_2 = np.count_nonzero(cluster_2 & cluster_2_kmeans)\n",
    "print(same_indices_count_2/sum(cluster_2)) \n"
   ]
  },
  {
   "cell_type": "code",
   "execution_count": 62,
   "id": "f3d2f6f5",
   "metadata": {},
   "outputs": [
    {
     "name": "stdout",
     "output_type": "stream",
     "text": [
      "0.983739837398374\n"
     ]
    }
   ],
   "source": [
    "cluster_3 = mapped_labels == 3\n",
    "cluster_3_kmeans = y_kmeans == 3\n",
    "same_indices_count_3 = np.count_nonzero(cluster_3 & cluster_3_kmeans)\n",
    "print(same_indices_count_3/sum(cluster_3)) \n"
   ]
  },
  {
   "cell_type": "code",
   "execution_count": 24,
   "id": "3bef5b02",
   "metadata": {},
   "outputs": [
    {
     "name": "stdout",
     "output_type": "stream",
     "text": [
      "Cluster 0: 80.66% correctly mapped\n",
      "Cluster 1: 100.00% correctly mapped\n",
      "Cluster 2: 100.00% correctly mapped\n",
      "Cluster 3: 98.37% correctly mapped\n"
     ]
    }
   ],
   "source": [
    "from collections import Counter\n",
    "\n",
    "# Assuming true_cluster_assignments and mapped_cluster_assignments are lists containing cluster assignments\n",
    "# Count the number of points in each cluster for true and mapped assignments\n",
    "true_cluster_assignments = mapped_labels\n",
    "mapped_cluster_assignments = y_kmeans\n",
    "true_cluster_counts = Counter(true_cluster_assignments)\n",
    "mapped_cluster_counts = Counter(mapped_cluster_assignments)\n",
    "\n",
    "# Initialize a dictionary to store the percentage of correctly mapped points for each cluster\n",
    "correctly_mapped_percentages = {}\n",
    "\n",
    "# Iterate through unique clusters in true cluster assignments\n",
    "for cluster_label in set(true_cluster_assignments):\n",
    "    # Find the number of points in this cluster for true and mapped assignments\n",
    "    true_count = true_cluster_counts[cluster_label]\n",
    "    mapped_count = mapped_cluster_counts[cluster_label]\n",
    "    \n",
    "    # Find the intersection (number of correctly mapped points)\n",
    "    intersection = sum(1 for i in range(len(true_cluster_assignments)) if true_cluster_assignments[i] == cluster_label and mapped_cluster_assignments[i] == cluster_label)\n",
    "    \n",
    "    # Calculate percentage of correctly mapped points\n",
    "    if true_count != 0:\n",
    "        correctly_mapped_percentage = (intersection / true_count) * 100\n",
    "        correctly_mapped_percentages[cluster_label] = correctly_mapped_percentage\n",
    "\n",
    "# Print the percentage of correctly mapped points for each cluster\n",
    "for cluster_label, percentage in correctly_mapped_percentages.items():\n",
    "    print(f\"Cluster {cluster_label}: {percentage:.2f}% correctly mapped\")"
   ]
  },
  {
   "cell_type": "code",
   "execution_count": 58,
   "id": "1557a6c7",
   "metadata": {},
   "outputs": [
    {
     "name": "stdout",
     "output_type": "stream",
     "text": [
      "0.8887367522429042\n",
      "0.9514652014652014\n"
     ]
    }
   ],
   "source": [
    "print(ari_score)\n",
    "print(matching_proportion)\n",
    "\n",
    "#ari score is lower than matching proportion. "
   ]
  },
  {
   "cell_type": "code",
   "execution_count": 32,
   "id": "13c01a34",
   "metadata": {},
   "outputs": [
    {
     "name": "stdout",
     "output_type": "stream",
     "text": [
      "1053\n",
      "1092\n"
     ]
    }
   ],
   "source": [
    "same_indices_count_total = np.count_nonzero(y_kmeans == mapped_labels)\n",
    "print(same_indices_count_total)\n",
    "print(len(y_kmeans))\n",
    "#(same_indices_count_total/len(y_kmeans))"
   ]
  },
  {
   "cell_type": "code",
   "execution_count": null,
   "id": "38ddabc5",
   "metadata": {},
   "outputs": [],
   "source": []
  }
 ],
 "metadata": {
  "kernelspec": {
   "display_name": "Python 3 (ipykernel)",
   "language": "python",
   "name": "python3"
  },
  "language_info": {
   "codemirror_mode": {
    "name": "ipython",
    "version": 3
   },
   "file_extension": ".py",
   "mimetype": "text/x-python",
   "name": "python",
   "nbconvert_exporter": "python",
   "pygments_lexer": "ipython3",
   "version": "3.10.5"
  }
 },
 "nbformat": 4,
 "nbformat_minor": 5
}
